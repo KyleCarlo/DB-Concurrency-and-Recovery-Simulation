{
 "cells": [
  {
   "cell_type": "markdown",
   "id": "e0ce9e2b",
   "metadata": {},
   "source": [
    "# Installation"
   ]
  },
  {
   "cell_type": "code",
   "execution_count": null,
   "id": "45dd8c7b",
   "metadata": {},
   "outputs": [],
   "source": [
    "!pip install pandas\n",
    "!pip install numpy\n",
    "!pip install sqlalchemy\n",
    "!pip install pymysql"
   ]
  },
  {
   "cell_type": "markdown",
   "id": "c2bddc10",
   "metadata": {},
   "source": [
    "Import libraries"
   ]
  },
  {
   "cell_type": "code",
   "execution_count": 1,
   "id": "4e0f0c72",
   "metadata": {},
   "outputs": [],
   "source": [
    "import pandas as pd\n",
    "import numpy as np\n",
    "import sqlalchemy as db\n",
    "import json"
   ]
  },
  {
   "cell_type": "markdown",
   "id": "295a4465",
   "metadata": {},
   "source": [
    "# Extract"
   ]
  },
  {
   "cell_type": "markdown",
   "id": "f1db239c",
   "metadata": {},
   "source": [
    "Read CSV files"
   ]
  },
  {
   "cell_type": "markdown",
   "id": "362d8d19",
   "metadata": {},
   "source": [
    "Load Progress"
   ]
  },
  {
   "cell_type": "code",
   "execution_count": 2,
   "id": "fc0f3d35",
   "metadata": {},
   "outputs": [],
   "source": [
    "doctors = pd.read_parquet('cleaned/doctors.parquet')\n",
    "clinics = pd.read_parquet('cleaned/clinics.parquet')\n",
    "px = pd.DataFrame()\n",
    "for i in range(8):\n",
    "    temp = pd.read_parquet(f\"cleaned/px_{i+1}.parquet\")\n",
    "    px = pd.concat([px,temp])\n",
    "appointments = pd.read_parquet('cleaned/appointments.parquet')"
   ]
  },
  {
   "cell_type": "code",
   "execution_count": 3,
   "id": "f40a7ff6-111f-4f1e-85dc-eba9e6881eeb",
   "metadata": {},
   "outputs": [],
   "source": [
    "del doctors['age']"
   ]
  },
  {
   "cell_type": "code",
   "execution_count": 4,
   "id": "954b9d68-9b34-4b95-bcc5-3b452ba5db00",
   "metadata": {},
   "outputs": [],
   "source": [
    "merge_df = pd.merge(appointments, clinics, on = 'clinicid', how = 'inner')"
   ]
  },
  {
   "cell_type": "code",
   "execution_count": 5,
   "id": "6b9cf7c3-c385-4871-90a6-d377599989ea",
   "metadata": {},
   "outputs": [],
   "source": [
    "merge_df = pd.merge(merge_df, doctors, on = 'doctorid', how = 'inner')"
   ]
  },
  {
   "cell_type": "code",
   "execution_count": 6,
   "id": "b3868d3a-2f78-44e7-9a22-591f84d271c3",
   "metadata": {},
   "outputs": [],
   "source": [
    "merge_df = pd.merge(merge_df, px, on = 'pxid', how = 'inner')"
   ]
  },
  {
   "cell_type": "code",
   "execution_count": 7,
   "id": "e198eb28-1782-4b53-aac5-dc2f6cd3a95d",
   "metadata": {},
   "outputs": [],
   "source": [
    "merge_df.rename(columns={'age': 'patientage'}, inplace=True)\n",
    "merge_df.rename(columns={'gender': 'patientgender'}, inplace=True)"
   ]
  },
  {
   "cell_type": "code",
   "execution_count": 8,
   "id": "024956f8",
   "metadata": {},
   "outputs": [],
   "source": [
    "merge_df = merge_df.iloc[:,3:]"
   ]
  },
  {
   "cell_type": "code",
   "execution_count": 9,
   "id": "259d08c1-5356-4c85-972f-e04dec4b53e9",
   "metadata": {},
   "outputs": [
    {
     "data": {
      "text/plain": [
       "array(['National Capital Region (NCR)', 'Central Visayas (VII)',\n",
       "       'SOCCSKSARGEN (Cotabato Region) (XII)', 'CALABARZON (IV-A)',\n",
       "       'Northern Mindanao (X)', 'Ilocos Region (I)', 'Bicol Region (V)',\n",
       "       'Eastern Visayas (VIII)', 'Western Visayas (VI)',\n",
       "       'Central Luzon (III)'], dtype=object)"
      ]
     },
     "execution_count": 9,
     "metadata": {},
     "output_type": "execute_result"
    }
   ],
   "source": [
    "merge_df['RegionName'].unique()"
   ]
  },
  {
   "cell_type": "code",
   "execution_count": 10,
   "id": "b8fb75e6-ba3a-4030-84fe-01acf07af770",
   "metadata": {},
   "outputs": [],
   "source": [
    "luzon_df = merge_df[merge_df['RegionName'].isin(['National Capital Region (NCR)', \n",
    "                                                 'CALABARZON (IV-A)', \n",
    "                                                 'Ilocos Region (I)', \n",
    "                                                 'Bicol Region (V)', \n",
    "                                                 'Central Luzon (III)'])]\n",
    "\n",
    "visayas_mindanao_df = merge_df[merge_df['RegionName'].isin(['Central Visayas (VII)', \n",
    "                                                            'SOCCSKSARGEN (Cotabato Region) (XII)', \n",
    "                                                            'Northern Mindanao (X)', \n",
    "                                                            'Eastern Visayas (VIII)', \n",
    "                                                            'Western Visayas (VI)'])]"
   ]
  },
  {
   "cell_type": "code",
   "execution_count": 11,
   "id": "d01c6cd4",
   "metadata": {},
   "outputs": [
    {
     "data": {
      "text/plain": [
       "Index(['apptid', 'status', 'TimeQueued', 'QueueDate', 'StartTime', 'EndTime',\n",
       "       'type', 'Virtual', 'hospitalname', 'IsHospital', 'City', 'Province',\n",
       "       'RegionName', 'mainspecialty', 'patientage', 'patientgender'],\n",
       "      dtype='object')"
      ]
     },
     "execution_count": 11,
     "metadata": {},
     "output_type": "execute_result"
    }
   ],
   "source": [
    "merge_df.columns"
   ]
  },
  {
   "cell_type": "code",
   "execution_count": 12,
   "id": "74b386a9",
   "metadata": {},
   "outputs": [
    {
     "data": {
      "text/plain": [
       "array(['Consultation', 'Inpatient'], dtype=object)"
      ]
     },
     "execution_count": 12,
     "metadata": {},
     "output_type": "execute_result"
    }
   ],
   "source": [
    "np.sort(merge_df['type'].unique())"
   ]
  },
  {
   "cell_type": "markdown",
   "id": "e667cb9d",
   "metadata": {},
   "source": [
    "# Database Operations\n",
    "### Connect to MySQL"
   ]
  },
  {
   "cell_type": "markdown",
   "id": "f1fa4e56",
   "metadata": {},
   "source": [
    "abstracted `connection.json` "
   ]
  },
  {
   "cell_type": "code",
   "execution_count": 25,
   "id": "e200b0fd",
   "metadata": {},
   "outputs": [],
   "source": [
    "connection = open('connection.json')\n",
    "connection = json.load(connection)\n",
    "host = connection['host']\n",
    "user = connection['user']\n",
    "password = connection['password']\n",
    "port0 = connection['port0']\n",
    "port1 = connection['port1']\n",
    "port2 = connection['port2']"
   ]
  },
  {
   "cell_type": "code",
   "execution_count": 26,
   "id": "80dcfef3",
   "metadata": {},
   "outputs": [],
   "source": [
    "db_name0 = 'center'\n",
    "engine0 = db.create_engine('mysql+pymysql://' + user + ':' + password + '@' + host + ':' + port0)"
   ]
  },
  {
   "cell_type": "code",
   "execution_count": 27,
   "id": "0d4ff8f5",
   "metadata": {},
   "outputs": [],
   "source": [
    "db_name1 = 'node_2'\n",
    "engine1 = db.create_engine('mysql+pymysql://' + user + ':' + password + '@' + host + ':' + port1)"
   ]
  },
  {
   "cell_type": "code",
   "execution_count": 28,
   "id": "77bb6b28",
   "metadata": {},
   "outputs": [],
   "source": [
    "db_name2 = 'node_3'\n",
    "engine2 = db.create_engine('mysql+pymysql://' + user + ':' + password + '@' + host + ':' + port2)"
   ]
  },
  {
   "cell_type": "markdown",
   "id": "16a62b4f",
   "metadata": {},
   "source": [
    "Define the schemas of CSV files"
   ]
  },
  {
   "cell_type": "code",
   "execution_count": 29,
   "id": "44743ec3",
   "metadata": {},
   "outputs": [],
   "source": [
    "# appointments schema\n",
    "appointments_schema = {\n",
    "    \"pxid\":db.types.VARCHAR(32),\n",
    "    \"clinicid\":db.types.VARCHAR(32),\n",
    "    \"doctorid\":db.types.VARCHAR(32),\n",
    "    \"apptid\":db.types.VARCHAR(32),\n",
    "    \"status\":db.types.Enum(\"Queued\", \"Complete\", \"Serving\",\"Cancel\",\"NoShow\",\"Skip\"),\n",
    "    \"TimeQueued\":db.types.DATETIME(),\n",
    "    \"QueueDate\":db.types.DATE(),\n",
    "    \"StartTime\":db.types.DATETIME(),\n",
    "    \"EndTime\":db.types.DATETIME(),\n",
    "    \"type\":db.types.Enum(\"Consultation\",\"Inpatient\"),\n",
    "    \"Virtual\":db.types.BOOLEAN(),\n",
    "    \"hospitalname\":db.types.VARCHAR(255),\n",
    "    \"IsHospital\":db.types.BOOLEAN(),\n",
    "    \"City\":db.types.VARCHAR(255),\n",
    "    \"Province\":db.types.VARCHAR(255),\n",
    "    \"RegionName\":db.types.VARCHAR(255),\n",
    "    \"mainspecialty\":db.types.VARCHAR(255),\n",
    "    \"patientage\":db.dialects.mysql.TINYINT(255),\n",
    "    \"patientgender\":db.types.Enum(\"MALE\", \"FEMALE\")\n",
    "}"
   ]
  },
  {
   "cell_type": "markdown",
   "id": "19043c66",
   "metadata": {},
   "source": [
    "Insert the merge_df to central node"
   ]
  },
  {
   "cell_type": "code",
   "execution_count": 30,
   "id": "dba35fb7",
   "metadata": {},
   "outputs": [],
   "source": [
    "# central node\n",
    "with engine0.connect() as conn:\n",
    "    conn.execute(db.text(\"DROP DATABASE IF EXISTS `\" + db_name0 + \"`;\"))\n",
    "    conn.execute(db.text(\"CREATE DATABASE `\" + db_name0 + \"`;\"))\n",
    "engine0 = db.create_engine('mysql+pymysql://' + user + ':' + password + '@' + host + ':' + port0 + '/' + db_name0)"
   ]
  },
  {
   "cell_type": "code",
   "execution_count": 31,
   "id": "752121fc",
   "metadata": {},
   "outputs": [
    {
     "data": {
      "text/plain": [
       "320140"
      ]
     },
     "execution_count": 31,
     "metadata": {},
     "output_type": "execute_result"
    }
   ],
   "source": [
    "merge_df.to_sql('appointments', engine0, if_exists='replace', index=False, dtype=appointments_schema)"
   ]
  },
  {
   "cell_type": "code",
   "execution_count": 32,
   "id": "fde35951",
   "metadata": {},
   "outputs": [
    {
     "name": "stdout",
     "output_type": "stream",
     "text": [
      "apptid IS A PRIMARY KEY IN CENTRAL NODE\n"
     ]
    }
   ],
   "source": [
    "with engine0.connect() as conn:\n",
    "    conn.execute(db.text(\"\"\"\n",
    "        ALTER TABLE `\"\"\" + db_name0 + \"\"\"`.`appointments` \n",
    "        CHANGE COLUMN `apptid` `apptid` VARCHAR(32) NOT NULL ,\n",
    "        ADD PRIMARY KEY (`apptid`);\n",
    "    \"\"\"))\n",
    "    print(\"apptid IS A PRIMARY KEY IN CENTRAL NODE\")"
   ]
  },
  {
   "cell_type": "markdown",
   "id": "1ee9e05b",
   "metadata": {},
   "source": [
    "Insert the luzon_df to node 2"
   ]
  },
  {
   "cell_type": "code",
   "execution_count": 33,
   "id": "f828dc70",
   "metadata": {},
   "outputs": [],
   "source": [
    "# node 2\n",
    "with engine1.connect() as conn:\n",
    "    conn.execute(db.text(\"DROP DATABASE IF EXISTS `\" + db_name1 + \"`;\"))\n",
    "    conn.execute(db.text(\"CREATE DATABASE `\" + db_name1 + \"`;\"))\n",
    "engine1 = db.create_engine('mysql+pymysql://' + user + ':' + password + '@' + host + ':' + port1 + '/' + db_name1)"
   ]
  },
  {
   "cell_type": "code",
   "execution_count": 34,
   "id": "d0f8be12",
   "metadata": {},
   "outputs": [
    {
     "data": {
      "text/plain": [
       "261600"
      ]
     },
     "execution_count": 34,
     "metadata": {},
     "output_type": "execute_result"
    }
   ],
   "source": [
    "luzon_df.to_sql('appointments', engine1, if_exists='replace', index=False, dtype=appointments_schema)"
   ]
  },
  {
   "cell_type": "code",
   "execution_count": 35,
   "id": "b38894e1",
   "metadata": {},
   "outputs": [
    {
     "name": "stdout",
     "output_type": "stream",
     "text": [
      "apptid IS A PRIMARY KEY IN NODE 2\n"
     ]
    }
   ],
   "source": [
    "with engine1.connect() as conn:\n",
    "    conn.execute(db.text(\"\"\"\n",
    "        ALTER TABLE `\"\"\" + db_name1 + \"\"\"`.`appointments` \n",
    "        CHANGE COLUMN `apptid` `apptid` VARCHAR(32) NOT NULL ,\n",
    "        ADD PRIMARY KEY (`apptid`);\n",
    "    \"\"\"))\n",
    "    print(\"apptid IS A PRIMARY KEY IN NODE 2\")"
   ]
  },
  {
   "cell_type": "markdown",
   "id": "9bf07a0e",
   "metadata": {},
   "source": [
    "Insert the visayas_mindanao_df to node 3"
   ]
  },
  {
   "cell_type": "code",
   "execution_count": 36,
   "id": "3fda8bce",
   "metadata": {},
   "outputs": [],
   "source": [
    "# node 3\n",
    "with engine2.connect() as conn:\n",
    "    conn.execute(db.text(\"DROP DATABASE IF EXISTS `\" + db_name2 + \"`;\"))\n",
    "    conn.execute(db.text(\"CREATE DATABASE `\" + db_name2 + \"`;\"))\n",
    "engine2 = db.create_engine('mysql+pymysql://' + user + ':' + password + '@' + host + ':' + port2 + '/' + db_name2)"
   ]
  },
  {
   "cell_type": "code",
   "execution_count": 37,
   "id": "2cac5865",
   "metadata": {},
   "outputs": [
    {
     "data": {
      "text/plain": [
       "58540"
      ]
     },
     "execution_count": 37,
     "metadata": {},
     "output_type": "execute_result"
    }
   ],
   "source": [
    "visayas_mindanao_df.to_sql('appointments', engine2, if_exists='replace', index=False, dtype=appointments_schema)"
   ]
  },
  {
   "cell_type": "code",
   "execution_count": 38,
   "id": "08d1960b",
   "metadata": {},
   "outputs": [
    {
     "name": "stdout",
     "output_type": "stream",
     "text": [
      "apptid IS A PRIMARY KEY IN NODE 3\n"
     ]
    }
   ],
   "source": [
    "with engine2.connect() as conn:\n",
    "    conn.execute(db.text(\"\"\"\n",
    "        ALTER TABLE `\"\"\" + db_name2 + \"\"\"`.`appointments` \n",
    "        CHANGE COLUMN `apptid` `apptid` VARCHAR(32) NOT NULL ,\n",
    "        ADD PRIMARY KEY (`apptid`);\n",
    "    \"\"\"))\n",
    "    print(\"apptid IS A PRIMARY KEY IN NODE 3\")"
   ]
  }
 ],
 "metadata": {
  "kernelspec": {
   "display_name": "Python 3 (ipykernel)",
   "language": "python",
   "name": "python3"
  },
  "language_info": {
   "codemirror_mode": {
    "name": "ipython",
    "version": 3
   },
   "file_extension": ".py",
   "mimetype": "text/x-python",
   "name": "python",
   "nbconvert_exporter": "python",
   "pygments_lexer": "ipython3",
   "version": "3.11.4"
  }
 },
 "nbformat": 4,
 "nbformat_minor": 5
}

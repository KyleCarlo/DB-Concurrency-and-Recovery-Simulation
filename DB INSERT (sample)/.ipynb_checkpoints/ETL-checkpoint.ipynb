{
 "cells": [
  {
   "cell_type": "markdown",
   "id": "e0ce9e2b",
   "metadata": {},
   "source": [
    "# Installation"
   ]
  },
  {
   "cell_type": "code",
   "execution_count": 1,
   "id": "45dd8c7b",
   "metadata": {},
   "outputs": [
    {
     "name": "stdout",
     "output_type": "stream",
     "text": [
      "Defaulting to user installation because normal site-packages is not writeable\n",
      "Requirement already satisfied: pandas in c:\\users\\sealtiel dy\\appdata\\roaming\\python\\python312\\site-packages (2.2.1)\n",
      "Requirement already satisfied: numpy<2,>=1.26.0 in c:\\users\\sealtiel dy\\appdata\\roaming\\python\\python312\\site-packages (from pandas) (1.26.4)\n",
      "Requirement already satisfied: python-dateutil>=2.8.2 in c:\\users\\sealtiel dy\\appdata\\roaming\\python\\python312\\site-packages (from pandas) (2.8.2)\n",
      "Requirement already satisfied: pytz>=2020.1 in c:\\users\\sealtiel dy\\appdata\\roaming\\python\\python312\\site-packages (from pandas) (2024.1)\n",
      "Requirement already satisfied: tzdata>=2022.7 in c:\\users\\sealtiel dy\\appdata\\roaming\\python\\python312\\site-packages (from pandas) (2024.1)\n",
      "Requirement already satisfied: six>=1.5 in c:\\users\\sealtiel dy\\appdata\\roaming\\python\\python312\\site-packages (from python-dateutil>=2.8.2->pandas) (1.16.0)\n",
      "Defaulting to user installation because normal site-packages is not writeable\n",
      "Requirement already satisfied: numpy in c:\\users\\sealtiel dy\\appdata\\roaming\\python\\python312\\site-packages (1.26.4)\n",
      "Defaulting to user installation because normal site-packages is not writeable\n",
      "Requirement already satisfied: sqlalchemy in c:\\users\\sealtiel dy\\appdata\\roaming\\python\\python312\\site-packages (2.0.29)\n",
      "Requirement already satisfied: typing-extensions>=4.6.0 in c:\\users\\sealtiel dy\\appdata\\roaming\\python\\python312\\site-packages (from sqlalchemy) (4.9.0)\n",
      "Requirement already satisfied: greenlet!=0.4.17 in c:\\users\\sealtiel dy\\appdata\\roaming\\python\\python312\\site-packages (from sqlalchemy) (3.0.3)\n",
      "Defaulting to user installation because normal site-packages is not writeable\n",
      "Requirement already satisfied: pymysql in c:\\users\\sealtiel dy\\appdata\\roaming\\python\\python312\\site-packages (1.1.0)\n"
     ]
    }
   ],
   "source": [
    "!pip install pandas\n",
    "!pip install numpy\n",
    "!pip install sqlalchemy\n",
    "!pip install pymysql"
   ]
  },
  {
   "cell_type": "markdown",
   "id": "c2bddc10",
   "metadata": {},
   "source": [
    "Import libraries"
   ]
  },
  {
   "cell_type": "code",
   "execution_count": 8,
   "id": "4e0f0c72",
   "metadata": {},
   "outputs": [],
   "source": [
    "import pandas as pd\n",
    "import numpy as np\n",
    "import sqlalchemy as db\n",
    "import json"
   ]
  },
  {
   "cell_type": "markdown",
   "id": "295a4465",
   "metadata": {},
   "source": [
    "# Extract"
   ]
  },
  {
   "cell_type": "markdown",
   "id": "f1db239c",
   "metadata": {},
   "source": [
    "Read CSV files"
   ]
  },
  {
   "cell_type": "markdown",
   "id": "362d8d19",
   "metadata": {},
   "source": [
    "Load Progress"
   ]
  },
  {
   "cell_type": "code",
   "execution_count": 9,
   "id": "fc0f3d35",
   "metadata": {},
   "outputs": [],
   "source": [
    "doctors = pd.read_parquet('cleaned/doctors.parquet')\n",
    "clinics = pd.read_parquet('cleaned/clinics.parquet')\n",
    "px = pd.DataFrame()\n",
    "for i in range(8):\n",
    "    temp = pd.read_parquet(f\"cleaned/px_{i+1}.parquet\")\n",
    "    px = pd.concat([px,temp])\n",
    "appointments = pd.read_parquet('cleaned/appointments.parquet')"
   ]
  },
  {
   "cell_type": "code",
   "execution_count": 10,
   "id": "f40a7ff6-111f-4f1e-85dc-eba9e6881eeb",
   "metadata": {},
   "outputs": [],
   "source": [
    "del doctors['age']"
   ]
  },
  {
   "cell_type": "code",
   "execution_count": 11,
   "id": "954b9d68-9b34-4b95-bcc5-3b452ba5db00",
   "metadata": {},
   "outputs": [],
   "source": [
    "merge_df = pd.merge(appointments, clinics, on = 'clinicid', how = 'inner')"
   ]
  },
  {
   "cell_type": "code",
   "execution_count": 12,
   "id": "6b9cf7c3-c385-4871-90a6-d377599989ea",
   "metadata": {},
   "outputs": [],
   "source": [
    "merge_df = pd.merge(merge_df, doctors, on = 'doctorid', how = 'inner')"
   ]
  },
  {
   "cell_type": "code",
   "execution_count": 13,
   "id": "b3868d3a-2f78-44e7-9a22-591f84d271c3",
   "metadata": {},
   "outputs": [],
   "source": [
    "merge_df = pd.merge(merge_df, px, on = 'pxid', how = 'inner')"
   ]
  },
  {
   "cell_type": "code",
   "execution_count": 14,
   "id": "e198eb28-1782-4b53-aac5-dc2f6cd3a95d",
   "metadata": {},
   "outputs": [],
   "source": [
    "merge_df.rename(columns={'age': 'patientage'}, inplace=True)\n",
    "merge_df.rename(columns={'gender': 'patientgender'}, inplace=True)"
   ]
  },
  {
   "cell_type": "code",
   "execution_count": 15,
   "id": "024956f8",
   "metadata": {},
   "outputs": [],
   "source": [
    "merge_df = merge_df.iloc[:,3:]"
   ]
  },
  {
   "cell_type": "code",
   "execution_count": 16,
   "id": "259d08c1-5356-4c85-972f-e04dec4b53e9",
   "metadata": {},
   "outputs": [
    {
     "data": {
      "text/plain": [
       "array(['Queued', 'Serving', 'NoShow', 'Complete', 'Cancel', 'Skip'],\n",
       "      dtype=object)"
      ]
     },
     "execution_count": 16,
     "metadata": {},
     "output_type": "execute_result"
    }
   ],
   "source": [
    "merge_df['status'].unique()"
   ]
  },
  {
   "cell_type": "code",
   "execution_count": 17,
   "id": "f8ce4d9b",
   "metadata": {},
   "outputs": [
    {
     "data": {
      "text/plain": [
       "Index(['apptid', 'status', 'TimeQueued', 'QueueDate', 'StartTime', 'EndTime',\n",
       "       'type', 'Virtual', 'hospitalname', 'IsHospital', 'City', 'Province',\n",
       "       'RegionName', 'mainspecialty', 'patientage', 'patientgender'],\n",
       "      dtype='object')"
      ]
     },
     "execution_count": 17,
     "metadata": {},
     "output_type": "execute_result"
    }
   ],
   "source": [
    "merge_df.columns"
   ]
  },
  {
   "cell_type": "code",
   "execution_count": 18,
   "id": "b8fb75e6-ba3a-4030-84fe-01acf07af770",
   "metadata": {},
   "outputs": [],
   "source": [
    "luzon_df = merge_df[merge_df['RegionName'].isin(['National Capital Region (NCR)', \n",
    "                                                 'CALABARZON (IV-A)', \n",
    "                                                 'Ilocos Region (I)', \n",
    "                                                 'Bicol Region (V)', \n",
    "                                                 'Central Luzon (III)'])]\n",
    "\n",
    "visayas_mindanao_df = merge_df[merge_df['RegionName'].isin(['Central Visayas (VII)', \n",
    "                                                            'SOCCSKSARGEN (Cotabato Region) (XII)', \n",
    "                                                            'Northern Mindanao (X)', \n",
    "                                                            'Eastern Visayas (VIII)', \n",
    "                                                            'Western Visayas (VI)'])]"
   ]
  },
  {
   "cell_type": "code",
   "execution_count": 19,
   "id": "d01c6cd4",
   "metadata": {},
   "outputs": [
    {
     "data": {
      "text/plain": [
       "Index(['apptid', 'status', 'TimeQueued', 'QueueDate', 'StartTime', 'EndTime',\n",
       "       'type', 'Virtual', 'hospitalname', 'IsHospital', 'City', 'Province',\n",
       "       'RegionName', 'mainspecialty', 'patientage', 'patientgender'],\n",
       "      dtype='object')"
      ]
     },
     "execution_count": 19,
     "metadata": {},
     "output_type": "execute_result"
    }
   ],
   "source": [
    "merge_df.columns"
   ]
  },
  {
   "cell_type": "code",
   "execution_count": 20,
   "id": "74b386a9",
   "metadata": {},
   "outputs": [
    {
     "data": {
      "text/plain": [
       "array(['Consultation', 'Inpatient'], dtype=object)"
      ]
     },
     "execution_count": 20,
     "metadata": {},
     "output_type": "execute_result"
    }
   ],
   "source": [
    "np.sort(merge_df['type'].unique())"
   ]
  },
  {
   "cell_type": "markdown",
   "id": "e667cb9d",
   "metadata": {},
   "source": [
    "# Insert Data to MySQL DB"
   ]
  },
  {
   "cell_type": "markdown",
   "id": "f1fa4e56",
   "metadata": {},
   "source": [
    "abstracted `connection.json` "
   ]
  },
  {
   "cell_type": "code",
   "execution_count": 74,
   "id": "e200b0fd",
   "metadata": {},
   "outputs": [],
   "source": [
    "connection = open('connection.json')\n",
    "connection = json.load(connection)\n",
    "host = connection['host']\n",
    "user = connection['user']\n",
    "password = connection['password']\n",
    "port0 = connection['port0']\n",
    "port1 = connection['port1']\n",
    "port2 = connection['port2']\n",
    "\n",
    "db_name0 = 'center'\n",
    "engine0 = db.create_engine('mysql+pymysql://' + user + ':' + password + '@' + host + ':' + port0)\n",
    "\n",
    "db_name1 = 'node_2'\n",
    "engine1 = db.create_engine('mysql+pymysql://' + user + ':' + password + '@' + host + ':' + port1)\n",
    "\n",
    "db_name2 = 'node_3'\n",
    "engine2 = db.create_engine('mysql+pymysql://' + user + ':' + password + '@' + host + ':' + port2)"
   ]
  },
  {
   "cell_type": "markdown",
   "id": "16a62b4f",
   "metadata": {},
   "source": [
    "Define the schemas of CSV files"
   ]
  },
  {
   "cell_type": "code",
   "execution_count": 75,
   "id": "44743ec3",
   "metadata": {},
   "outputs": [],
   "source": [
    "# appointments schema\n",
    "appointments_schema = {\n",
    "    \"pxid\":db.types.VARCHAR(32),\n",
    "    \"clinicid\":db.types.VARCHAR(32),\n",
    "    \"doctorid\":db.types.VARCHAR(32),\n",
    "    \"apptid\":db.types.VARCHAR(32),\n",
    "    \"status\":db.types.Enum(\"Queued\", \"Complete\", \"Serving\",\"Cancel\",\"NoShow\",\"Skip\"),\n",
    "    \"TimeQueued\":db.types.DATETIME(),\n",
    "    \"QueueDate\":db.types.DATE(),\n",
    "    \"StartTime\":db.types.DATETIME(),\n",
    "    \"EndTime\":db.types.DATETIME(),\n",
    "    \"type\":db.types.Enum(\"Consultation\",\"Inpatient\"),\n",
    "    \"Virtual\":db.types.BOOLEAN(),\n",
    "    \"hospitalname\":db.types.VARCHAR(255),\n",
    "    \"IsHospital\":db.types.BOOLEAN(),\n",
    "    \"City\":db.types.VARCHAR(255),\n",
    "    \"Province\":db.types.VARCHAR(255),\n",
    "    \"RegionName\":db.types.VARCHAR(255),\n",
    "    \"mainspecialty\":db.types.VARCHAR(255),\n",
    "    \"patientage\":db.dialects.mysql.TINYINT(255),\n",
    "    \"patientgender\":db.types.Enum(\"MALE\", \"FEMALE\")\n",
    "}"
   ]
  },
  {
   "cell_type": "markdown",
   "id": "19043c66",
   "metadata": {},
   "source": [
    "Insert the merge_df to central node"
   ]
  },
  {
   "cell_type": "code",
   "execution_count": 138,
   "id": "dba35fb7",
   "metadata": {},
   "outputs": [],
   "source": [
    "# central node\n",
    "with engine0.connect() as conn:\n",
    "    conn.execute(db.text(\"DROP DATABASE IF EXISTS `\" + db_name0 + \"`;\"))\n",
    "    conn.execute(db.text(\"CREATE DATABASE `\" + db_name0 + \"`;\"))\n",
    "engine0 = db.create_engine('mysql+pymysql://' + user + ':' + password + '@' + host + ':' + port0 + '/' + db_name0)"
   ]
  },
  {
   "cell_type": "code",
   "execution_count": 139,
   "id": "752121fc",
   "metadata": {},
   "outputs": [
    {
     "data": {
      "text/plain": [
       "320140"
      ]
     },
     "execution_count": 139,
     "metadata": {},
     "output_type": "execute_result"
    }
   ],
   "source": [
    "merge_df.to_sql('appointments', engine0, if_exists='replace', index=False, dtype=appointments_schema)"
   ]
  },
  {
   "cell_type": "code",
   "execution_count": 140,
   "id": "fde35951",
   "metadata": {},
   "outputs": [
    {
     "name": "stdout",
     "output_type": "stream",
     "text": [
      "apptid IS A PRIMARY KEY IN CENTRAL NODE\n"
     ]
    }
   ],
   "source": [
    "with engine0.connect() as conn:\n",
    "    conn.execute(db.text(\"\"\"\n",
    "        ALTER TABLE `\"\"\" + db_name0 + \"\"\"`.`appointments` \n",
    "        CHANGE COLUMN `apptid` `apptid` VARCHAR(32) NOT NULL ,\n",
    "        ADD PRIMARY KEY (`apptid`);\n",
    "    \"\"\"))\n",
    "    print(\"apptid IS A PRIMARY KEY IN CENTRAL NODE\")"
   ]
  },
  {
   "cell_type": "markdown",
   "id": "1ee9e05b",
   "metadata": {},
   "source": [
    "Insert the luzon_df to node 2"
   ]
  },
  {
   "cell_type": "code",
   "execution_count": 79,
   "id": "f828dc70",
   "metadata": {},
   "outputs": [],
   "source": [
    "# node 2\n",
    "with engine1.connect() as conn:\n",
    "    conn.execute(db.text(\"DROP DATABASE IF EXISTS `\" + db_name1 + \"`;\"))\n",
    "    conn.execute(db.text(\"CREATE DATABASE `\" + db_name1 + \"`;\"))\n",
    "engine1 = db.create_engine('mysql+pymysql://' + user + ':' + password + '@' + host + ':' + port1 + '/' + db_name1)"
   ]
  },
  {
   "cell_type": "code",
   "execution_count": 80,
   "id": "d0f8be12",
   "metadata": {},
   "outputs": [
    {
     "data": {
      "text/plain": [
       "261600"
      ]
     },
     "execution_count": 80,
     "metadata": {},
     "output_type": "execute_result"
    }
   ],
   "source": [
    "luzon_df.to_sql('appointments', engine1, if_exists='replace', index=False, dtype=appointments_schema)"
   ]
  },
  {
   "cell_type": "code",
   "execution_count": 81,
   "id": "b38894e1",
   "metadata": {},
   "outputs": [
    {
     "name": "stdout",
     "output_type": "stream",
     "text": [
      "apptid IS A PRIMARY KEY IN NODE 2\n"
     ]
    }
   ],
   "source": [
    "with engine1.connect() as conn:\n",
    "    conn.execute(db.text(\"\"\"\n",
    "        ALTER TABLE `\"\"\" + db_name1 + \"\"\"`.`appointments` \n",
    "        CHANGE COLUMN `apptid` `apptid` VARCHAR(32) NOT NULL ,\n",
    "        ADD PRIMARY KEY (`apptid`);\n",
    "    \"\"\"))\n",
    "    print(\"apptid IS A PRIMARY KEY IN NODE 2\")"
   ]
  },
  {
   "cell_type": "markdown",
   "id": "9bf07a0e",
   "metadata": {},
   "source": [
    "Insert the visayas_mindanao_df to node 3"
   ]
  },
  {
   "cell_type": "code",
   "execution_count": 82,
   "id": "3fda8bce",
   "metadata": {},
   "outputs": [],
   "source": [
    "# node 3\n",
    "with engine2.connect() as conn:\n",
    "    conn.execute(db.text(\"DROP DATABASE IF EXISTS `\" + db_name2 + \"`;\"))\n",
    "    conn.execute(db.text(\"CREATE DATABASE `\" + db_name2 + \"`;\"))\n",
    "engine2 = db.create_engine('mysql+pymysql://' + user + ':' + password + '@' + host + ':' + port2 + '/' + db_name2)"
   ]
  },
  {
   "cell_type": "code",
   "execution_count": 83,
   "id": "2cac5865",
   "metadata": {},
   "outputs": [
    {
     "data": {
      "text/plain": [
       "58540"
      ]
     },
     "execution_count": 83,
     "metadata": {},
     "output_type": "execute_result"
    }
   ],
   "source": [
    "visayas_mindanao_df.to_sql('appointments', engine2, if_exists='replace', index=False, dtype=appointments_schema)"
   ]
  },
  {
   "cell_type": "code",
   "execution_count": 84,
   "id": "08d1960b",
   "metadata": {},
   "outputs": [
    {
     "name": "stdout",
     "output_type": "stream",
     "text": [
      "apptid IS A PRIMARY KEY IN NODE 3\n"
     ]
    }
   ],
   "source": [
    "with engine2.connect() as conn:\n",
    "    conn.execute(db.text(\"\"\"\n",
    "        ALTER TABLE `\"\"\" + db_name2 + \"\"\"`.`appointments` \n",
    "        CHANGE COLUMN `apptid` `apptid` VARCHAR(32) NOT NULL ,\n",
    "        ADD PRIMARY KEY (`apptid`);\n",
    "    \"\"\"))\n",
    "    print(\"apptid IS A PRIMARY KEY IN NODE 3\")"
   ]
  },
  {
   "cell_type": "markdown",
   "id": "6ff43099",
   "metadata": {},
   "source": [
    "# Setup Logs in MySQL DB"
   ]
  },
  {
   "cell_type": "markdown",
   "id": "37d018d5",
   "metadata": {},
   "source": [
    "## Variable Setup"
   ]
  },
  {
   "cell_type": "code",
   "execution_count": 172,
   "id": "5b358cc6",
   "metadata": {},
   "outputs": [],
   "source": [
    "connection = open('connection.json')\n",
    "connection = json.load(connection)\n",
    "host = connection['host']\n",
    "user = connection['user']\n",
    "password = connection['password']\n",
    "port0 = connection['port0']\n",
    "port1 = connection['port1']\n",
    "port2 = connection['port2']\n",
    "\n",
    "db_name0 = 'center'\n",
    "engine0 = db.create_engine('mysql+pymysql://' + user + ':' + password + '@' + host + ':' + port0 + '/' + db_name0)\n",
    "\n",
    "db_name1 = 'node_2'\n",
    "engine1 = db.create_engine('mysql+pymysql://' + user + ':' + password + '@' + host + ':' + port1 + '/' + db_name1)\n",
    "\n",
    "db_name2 = 'node_3'\n",
    "engine2 = db.create_engine('mysql+pymysql://' + user + ':' + password + '@' + host + ':' + port2 + '/' + db_name2)\n",
    "\n",
    "# LOGS TABLE\n",
    "drop_logs = db.text(\"DROP TABLE IF EXISTS logs;\")\n",
    "\n",
    "create_logs = db.text(\"\"\"\n",
    "    CREATE TABLE logs (\n",
    "        `id` INT AUTO_INCREMENT PRIMARY KEY,\n",
    "        `action_time` TIMESTAMP NOT NULL,\n",
    "        `action` varchar(255),\n",
    "        `node` enum('node_2', 'node_3'),\n",
    "        `apptid` varchar(32) NOT NULL,\n",
    "        `status` enum('Queued','Complete','Serving','Cancel','NoShow','Skip') DEFAULT NULL,\n",
    "        `TimeQueued` datetime DEFAULT NULL,\n",
    "        `QueueDate` date DEFAULT NULL,\n",
    "        `StartTime` datetime DEFAULT NULL,\n",
    "        `EndTime` datetime DEFAULT NULL,\n",
    "        `type` enum('Consultation','Inpatient') DEFAULT NULL,\n",
    "        `Virtual` tinyint(1) DEFAULT NULL,\n",
    "        `hospitalname` varchar(255) DEFAULT NULL,\n",
    "        `IsHospital` tinyint(1) DEFAULT NULL,\n",
    "        `City` varchar(255) DEFAULT NULL,\n",
    "        `Province` varchar(255) DEFAULT NULL,\n",
    "        `RegionName` varchar(255) DEFAULT NULL,\n",
    "        `mainspecialty` varchar(255) DEFAULT NULL,\n",
    "        `patientage` tinyint DEFAULT NULL,\n",
    "        `patientgender` enum('MALE','FEMALE') DEFAULT NULL\n",
    "    );\n",
    "\"\"\")\n",
    "\n",
    "# TRIGGERS\n",
    "def drop_triggers(db_name,q):\n",
    "    return db.text(f\"DROP TRIGGER IF EXISTS {db_name}.{q.lower()}_data;\")\n",
    "\n",
    "def create_triggers(q):\n",
    "    if q.upper() == 'DELETE':\n",
    "        old_new = 'OLD'\n",
    "    else:\n",
    "        old_new = 'NEW'\n",
    "        \n",
    "    values = f\"\"\"VALUES(NOW(), '{q.upper()}', node_get, {old_new}.apptid, {old_new}.status, {old_new}.TimeQueued, {old_new}.QueueDate, \n",
    "        {old_new}.StartTime, {old_new}.EndTime, {old_new}.type, {old_new}.Virtual, {old_new}.hospitalname, {old_new}.IsHospital, {old_new}.City, \n",
    "        {old_new}.Province, {old_new}.RegionName, {old_new}.mainspecialty, {old_new}.patientage, {old_new}.patientgender)\"\"\"\n",
    "    print(f\"\"\"\n",
    "            CREATE TRIGGER {q.lower()}_data AFTER {q.upper()} ON appointments\n",
    "            FOR EACH ROW\n",
    "            BEGIN\n",
    "                DECLARE node_get VARCHAR(255);\n",
    "                SET node_get = (SELECT CASE \n",
    "                    WHEN NEW.RegionName = 'Western Visayas (VI)'\n",
    "                    OR NEW.RegionName = 'Central Visayas (VII)'\n",
    "                    OR NEW.RegionName = 'Eastern Visayas (VIII)'\n",
    "                    OR NEW.RegionName = 'Northern Mindanao (X)'\n",
    "                    OR NEW.RegionName = 'SOCCSKSARGEN (XII)'\n",
    "                    THEN 'node_3'\n",
    "                    ELSE 'node_2'\n",
    "                END);\n",
    "                INSERT INTO logs (`action_time`, `action`, `node`, `apptid`, `status`, `TimeQueued`, `QueueDate`, `StartTime`, `EndTime`, `type`, `Virtual`, `hospitalname`, `IsHospital`, `City`, `Province`, `RegionName`, `mainspecialty`, `patientage`, `patientgender`)\n",
    "                {values};\n",
    "            END;\n",
    "        \"\"\")\n",
    "    return db.text(f\"\"\"\n",
    "            CREATE TRIGGER {q.lower()}_data AFTER {q.upper()} ON appointments\n",
    "            FOR EACH ROW\n",
    "            BEGIN\n",
    "                DECLARE node_get VARCHAR(255);\n",
    "                SET node_get = (SELECT CASE \n",
    "                    WHEN NEW.RegionName = 'Western Visayas (VI)'\n",
    "                    OR NEW.RegionName = 'Central Visayas (VII)'\n",
    "                    OR NEW.RegionName = 'Eastern Visayas (VIII)'\n",
    "                    OR NEW.RegionName = 'Northern Mindanao (X)'\n",
    "                    OR NEW.RegionName = 'SOCCSKSARGEN (XII)'\n",
    "                    THEN 'node_3'\n",
    "                    ELSE 'node_2'\n",
    "                END);\n",
    "                INSERT INTO logs (`action_time`, `action`, `node`, `apptid`, `status`, `TimeQueued`, `QueueDate`, `StartTime`, `EndTime`, `type`, `Virtual`, `hospitalname`, `IsHospital`, `City`, `Province`, `RegionName`, `mainspecialty`, `patientage`, `patientgender`)\n",
    "                {values};\n",
    "            END;\n",
    "        \"\"\")"
   ]
  },
  {
   "cell_type": "markdown",
   "id": "d9448099",
   "metadata": {},
   "source": [
    "## Create Logs Table\n"
   ]
  },
  {
   "cell_type": "markdown",
   "id": "86951da8",
   "metadata": {},
   "source": [
    "### Central Node"
   ]
  },
  {
   "cell_type": "code",
   "execution_count": 173,
   "id": "58e283a3",
   "metadata": {},
   "outputs": [
    {
     "name": "stdout",
     "output_type": "stream",
     "text": [
      "logs TABLE CREATED IN Central NODE\n"
     ]
    }
   ],
   "source": [
    "with engine0.connect() as conn:\n",
    "    conn.execute(drop_logs)\n",
    "    conn.execute(create_logs)\n",
    "    print(\"logs TABLE CREATED IN Central NODE\")"
   ]
  },
  {
   "cell_type": "markdown",
   "id": "5aa05cd2",
   "metadata": {},
   "source": [
    "### Luzon Node"
   ]
  },
  {
   "cell_type": "code",
   "execution_count": 165,
   "id": "11c6e604",
   "metadata": {},
   "outputs": [
    {
     "name": "stdout",
     "output_type": "stream",
     "text": [
      "logs TABLE CREATED IN Luzon NODE\n"
     ]
    }
   ],
   "source": [
    "with engine1.connect() as conn:\n",
    "    conn.execute(drop_logs)\n",
    "    conn.execute(create_logs)\n",
    "    print(\"logs TABLE CREATED IN Luzon NODE\")"
   ]
  },
  {
   "cell_type": "markdown",
   "id": "f53f88b2",
   "metadata": {},
   "source": [
    "### VisMin Node"
   ]
  },
  {
   "cell_type": "code",
   "execution_count": 166,
   "id": "bedd5976",
   "metadata": {},
   "outputs": [
    {
     "name": "stdout",
     "output_type": "stream",
     "text": [
      "logs TABLE CREATED IN VisMin NODE\n"
     ]
    }
   ],
   "source": [
    "with engine2.connect() as conn:\n",
    "    conn.execute(drop_logs)\n",
    "    conn.execute(create_logs)\n",
    "    print(\"logs TABLE CREATED IN VisMin NODE\")"
   ]
  },
  {
   "cell_type": "markdown",
   "id": "4974cf1b",
   "metadata": {},
   "source": [
    "## Triggers"
   ]
  },
  {
   "cell_type": "markdown",
   "id": "ab23bd99",
   "metadata": {},
   "source": [
    "### Central Node"
   ]
  },
  {
   "cell_type": "code",
   "execution_count": 175,
   "id": "461572da",
   "metadata": {},
   "outputs": [
    {
     "ename": "OperationalError",
     "evalue": "(pymysql.err.OperationalError) (1363, 'There is no NEW row in on DELETE trigger')\n[SQL: \n            CREATE TRIGGER delete_data AFTER DELETE ON appointments\n            FOR EACH ROW\n            BEGIN\n                DECLARE node_get VARCHAR(255);\n                SET node_get = (SELECT CASE \n                    WHEN NEW.RegionName = 'Western Visayas (VI)'\n                    OR NEW.RegionName = 'Central Visayas (VII)'\n                    OR NEW.RegionName = 'Eastern Visayas (VIII)'\n                    OR NEW.RegionName = 'Northern Mindanao (X)'\n                    OR NEW.RegionName = 'SOCCSKSARGEN (XII)'\n                    THEN 'node_3'\n                    ELSE 'node_2'\n                END);\n                INSERT INTO logs (`action_time`, `action`, `node`, `apptid`, `status`, `TimeQueued`, `QueueDate`, `StartTime`, `EndTime`, `type`, `Virtual`, `hospitalname`, `IsHospital`, `City`, `Province`, `RegionName`, `mainspecialty`, `patientage`, `patientgender`)\n                VALUES(NOW(), 'DELETE', node_get, OLD.apptid, OLD.status, OLD.TimeQueued, OLD.QueueDate, \n        OLD.StartTime, OLD.EndTime, OLD.type, OLD.Virtual, OLD.hospitalname, OLD.IsHospital, OLD.City, \n        OLD.Province, OLD.RegionName, OLD.mainspecialty, OLD.patientage, OLD.patientgender);\n            END;\n        ]\n(Background on this error at: https://sqlalche.me/e/14/e3q8)",
     "output_type": "error",
     "traceback": [
      "\u001b[1;31m---------------------------------------------------------------------------\u001b[0m",
      "\u001b[1;31mOperationalError\u001b[0m                          Traceback (most recent call last)",
      "File \u001b[1;32mC:\\ProgramData\\anaconda3\\Lib\\site-packages\\sqlalchemy\\engine\\base.py:1819\u001b[0m, in \u001b[0;36mConnection._execute_context\u001b[1;34m(self, dialect, constructor, statement, parameters, execution_options, *args, **kw)\u001b[0m\n\u001b[0;32m   1818\u001b[0m     \u001b[38;5;28;01mif\u001b[39;00m \u001b[38;5;129;01mnot\u001b[39;00m evt_handled:\n\u001b[1;32m-> 1819\u001b[0m         \u001b[38;5;28mself\u001b[39m\u001b[38;5;241m.\u001b[39mdialect\u001b[38;5;241m.\u001b[39mdo_execute(\n\u001b[0;32m   1820\u001b[0m             cursor, statement, parameters, context\n\u001b[0;32m   1821\u001b[0m         )\n\u001b[0;32m   1823\u001b[0m \u001b[38;5;28;01mif\u001b[39;00m \u001b[38;5;28mself\u001b[39m\u001b[38;5;241m.\u001b[39m_has_events \u001b[38;5;129;01mor\u001b[39;00m \u001b[38;5;28mself\u001b[39m\u001b[38;5;241m.\u001b[39mengine\u001b[38;5;241m.\u001b[39m_has_events:\n",
      "File \u001b[1;32mC:\\ProgramData\\anaconda3\\Lib\\site-packages\\sqlalchemy\\engine\\default.py:732\u001b[0m, in \u001b[0;36mDefaultDialect.do_execute\u001b[1;34m(self, cursor, statement, parameters, context)\u001b[0m\n\u001b[0;32m    731\u001b[0m \u001b[38;5;28;01mdef\u001b[39;00m \u001b[38;5;21mdo_execute\u001b[39m(\u001b[38;5;28mself\u001b[39m, cursor, statement, parameters, context\u001b[38;5;241m=\u001b[39m\u001b[38;5;28;01mNone\u001b[39;00m):\n\u001b[1;32m--> 732\u001b[0m     cursor\u001b[38;5;241m.\u001b[39mexecute(statement, parameters)\n",
      "File \u001b[1;32mC:\\ProgramData\\anaconda3\\Lib\\site-packages\\pymysql\\cursors.py:153\u001b[0m, in \u001b[0;36mCursor.execute\u001b[1;34m(self, query, args)\u001b[0m\n\u001b[0;32m    151\u001b[0m query \u001b[38;5;241m=\u001b[39m \u001b[38;5;28mself\u001b[39m\u001b[38;5;241m.\u001b[39mmogrify(query, args)\n\u001b[1;32m--> 153\u001b[0m result \u001b[38;5;241m=\u001b[39m \u001b[38;5;28mself\u001b[39m\u001b[38;5;241m.\u001b[39m_query(query)\n\u001b[0;32m    154\u001b[0m \u001b[38;5;28mself\u001b[39m\u001b[38;5;241m.\u001b[39m_executed \u001b[38;5;241m=\u001b[39m query\n",
      "File \u001b[1;32mC:\\ProgramData\\anaconda3\\Lib\\site-packages\\pymysql\\cursors.py:322\u001b[0m, in \u001b[0;36mCursor._query\u001b[1;34m(self, q)\u001b[0m\n\u001b[0;32m    321\u001b[0m \u001b[38;5;28mself\u001b[39m\u001b[38;5;241m.\u001b[39m_clear_result()\n\u001b[1;32m--> 322\u001b[0m conn\u001b[38;5;241m.\u001b[39mquery(q)\n\u001b[0;32m    323\u001b[0m \u001b[38;5;28mself\u001b[39m\u001b[38;5;241m.\u001b[39m_do_get_result()\n",
      "File \u001b[1;32mC:\\ProgramData\\anaconda3\\Lib\\site-packages\\pymysql\\connections.py:558\u001b[0m, in \u001b[0;36mConnection.query\u001b[1;34m(self, sql, unbuffered)\u001b[0m\n\u001b[0;32m    557\u001b[0m \u001b[38;5;28mself\u001b[39m\u001b[38;5;241m.\u001b[39m_execute_command(COMMAND\u001b[38;5;241m.\u001b[39mCOM_QUERY, sql)\n\u001b[1;32m--> 558\u001b[0m \u001b[38;5;28mself\u001b[39m\u001b[38;5;241m.\u001b[39m_affected_rows \u001b[38;5;241m=\u001b[39m \u001b[38;5;28mself\u001b[39m\u001b[38;5;241m.\u001b[39m_read_query_result(unbuffered\u001b[38;5;241m=\u001b[39munbuffered)\n\u001b[0;32m    559\u001b[0m \u001b[38;5;28;01mreturn\u001b[39;00m \u001b[38;5;28mself\u001b[39m\u001b[38;5;241m.\u001b[39m_affected_rows\n",
      "File \u001b[1;32mC:\\ProgramData\\anaconda3\\Lib\\site-packages\\pymysql\\connections.py:822\u001b[0m, in \u001b[0;36mConnection._read_query_result\u001b[1;34m(self, unbuffered)\u001b[0m\n\u001b[0;32m    821\u001b[0m     result \u001b[38;5;241m=\u001b[39m MySQLResult(\u001b[38;5;28mself\u001b[39m)\n\u001b[1;32m--> 822\u001b[0m     result\u001b[38;5;241m.\u001b[39mread()\n\u001b[0;32m    823\u001b[0m \u001b[38;5;28mself\u001b[39m\u001b[38;5;241m.\u001b[39m_result \u001b[38;5;241m=\u001b[39m result\n",
      "File \u001b[1;32mC:\\ProgramData\\anaconda3\\Lib\\site-packages\\pymysql\\connections.py:1200\u001b[0m, in \u001b[0;36mMySQLResult.read\u001b[1;34m(self)\u001b[0m\n\u001b[0;32m   1199\u001b[0m \u001b[38;5;28;01mtry\u001b[39;00m:\n\u001b[1;32m-> 1200\u001b[0m     first_packet \u001b[38;5;241m=\u001b[39m \u001b[38;5;28mself\u001b[39m\u001b[38;5;241m.\u001b[39mconnection\u001b[38;5;241m.\u001b[39m_read_packet()\n\u001b[0;32m   1202\u001b[0m     \u001b[38;5;28;01mif\u001b[39;00m first_packet\u001b[38;5;241m.\u001b[39mis_ok_packet():\n",
      "File \u001b[1;32mC:\\ProgramData\\anaconda3\\Lib\\site-packages\\pymysql\\connections.py:772\u001b[0m, in \u001b[0;36mConnection._read_packet\u001b[1;34m(self, packet_type)\u001b[0m\n\u001b[0;32m    771\u001b[0m         \u001b[38;5;28mself\u001b[39m\u001b[38;5;241m.\u001b[39m_result\u001b[38;5;241m.\u001b[39munbuffered_active \u001b[38;5;241m=\u001b[39m \u001b[38;5;28;01mFalse\u001b[39;00m\n\u001b[1;32m--> 772\u001b[0m     packet\u001b[38;5;241m.\u001b[39mraise_for_error()\n\u001b[0;32m    773\u001b[0m \u001b[38;5;28;01mreturn\u001b[39;00m packet\n",
      "File \u001b[1;32mC:\\ProgramData\\anaconda3\\Lib\\site-packages\\pymysql\\protocol.py:221\u001b[0m, in \u001b[0;36mMysqlPacket.raise_for_error\u001b[1;34m(self)\u001b[0m\n\u001b[0;32m    220\u001b[0m     \u001b[38;5;28mprint\u001b[39m(\u001b[38;5;124m\"\u001b[39m\u001b[38;5;124merrno =\u001b[39m\u001b[38;5;124m\"\u001b[39m, errno)\n\u001b[1;32m--> 221\u001b[0m err\u001b[38;5;241m.\u001b[39mraise_mysql_exception(\u001b[38;5;28mself\u001b[39m\u001b[38;5;241m.\u001b[39m_data)\n",
      "File \u001b[1;32mC:\\ProgramData\\anaconda3\\Lib\\site-packages\\pymysql\\err.py:143\u001b[0m, in \u001b[0;36mraise_mysql_exception\u001b[1;34m(data)\u001b[0m\n\u001b[0;32m    142\u001b[0m     errorclass \u001b[38;5;241m=\u001b[39m InternalError \u001b[38;5;28;01mif\u001b[39;00m errno \u001b[38;5;241m<\u001b[39m \u001b[38;5;241m1000\u001b[39m \u001b[38;5;28;01melse\u001b[39;00m OperationalError\n\u001b[1;32m--> 143\u001b[0m \u001b[38;5;28;01mraise\u001b[39;00m errorclass(errno, errval)\n",
      "\u001b[1;31mOperationalError\u001b[0m: (1363, 'There is no NEW row in on DELETE trigger')",
      "\nThe above exception was the direct cause of the following exception:\n",
      "\u001b[1;31mOperationalError\u001b[0m                          Traceback (most recent call last)",
      "Cell \u001b[1;32mIn[175], line 7\u001b[0m\n\u001b[0;32m      5\u001b[0m conn\u001b[38;5;241m.\u001b[39mexecute(create_triggers(\u001b[38;5;124m'\u001b[39m\u001b[38;5;124minsert\u001b[39m\u001b[38;5;124m'\u001b[39m))\n\u001b[0;32m      6\u001b[0m conn\u001b[38;5;241m.\u001b[39mexecute(create_triggers(\u001b[38;5;124m'\u001b[39m\u001b[38;5;124mupdate\u001b[39m\u001b[38;5;124m'\u001b[39m))\n\u001b[1;32m----> 7\u001b[0m conn\u001b[38;5;241m.\u001b[39mexecute(create_triggers(\u001b[38;5;124m'\u001b[39m\u001b[38;5;124mdelete\u001b[39m\u001b[38;5;124m'\u001b[39m))\n\u001b[0;32m      8\u001b[0m \u001b[38;5;28mprint\u001b[39m(\u001b[38;5;124m\"\u001b[39m\u001b[38;5;124mTRIGGERS CREATED IN Central NODE\u001b[39m\u001b[38;5;124m\"\u001b[39m)\n",
      "File \u001b[1;32mC:\\ProgramData\\anaconda3\\Lib\\site-packages\\sqlalchemy\\engine\\base.py:1306\u001b[0m, in \u001b[0;36mConnection.execute\u001b[1;34m(self, statement, *multiparams, **params)\u001b[0m\n\u001b[0;32m   1302\u001b[0m     util\u001b[38;5;241m.\u001b[39mraise_(\n\u001b[0;32m   1303\u001b[0m         exc\u001b[38;5;241m.\u001b[39mObjectNotExecutableError(statement), replace_context\u001b[38;5;241m=\u001b[39merr\n\u001b[0;32m   1304\u001b[0m     )\n\u001b[0;32m   1305\u001b[0m \u001b[38;5;28;01melse\u001b[39;00m:\n\u001b[1;32m-> 1306\u001b[0m     \u001b[38;5;28;01mreturn\u001b[39;00m meth(\u001b[38;5;28mself\u001b[39m, multiparams, params, _EMPTY_EXECUTION_OPTS)\n",
      "File \u001b[1;32mC:\\ProgramData\\anaconda3\\Lib\\site-packages\\sqlalchemy\\sql\\elements.py:332\u001b[0m, in \u001b[0;36mClauseElement._execute_on_connection\u001b[1;34m(self, connection, multiparams, params, execution_options, _force)\u001b[0m\n\u001b[0;32m    328\u001b[0m \u001b[38;5;28;01mdef\u001b[39;00m \u001b[38;5;21m_execute_on_connection\u001b[39m(\n\u001b[0;32m    329\u001b[0m     \u001b[38;5;28mself\u001b[39m, connection, multiparams, params, execution_options, _force\u001b[38;5;241m=\u001b[39m\u001b[38;5;28;01mFalse\u001b[39;00m\n\u001b[0;32m    330\u001b[0m ):\n\u001b[0;32m    331\u001b[0m     \u001b[38;5;28;01mif\u001b[39;00m _force \u001b[38;5;129;01mor\u001b[39;00m \u001b[38;5;28mself\u001b[39m\u001b[38;5;241m.\u001b[39msupports_execution:\n\u001b[1;32m--> 332\u001b[0m         \u001b[38;5;28;01mreturn\u001b[39;00m connection\u001b[38;5;241m.\u001b[39m_execute_clauseelement(\n\u001b[0;32m    333\u001b[0m             \u001b[38;5;28mself\u001b[39m, multiparams, params, execution_options\n\u001b[0;32m    334\u001b[0m         )\n\u001b[0;32m    335\u001b[0m     \u001b[38;5;28;01melse\u001b[39;00m:\n\u001b[0;32m    336\u001b[0m         \u001b[38;5;28;01mraise\u001b[39;00m exc\u001b[38;5;241m.\u001b[39mObjectNotExecutableError(\u001b[38;5;28mself\u001b[39m)\n",
      "File \u001b[1;32mC:\\ProgramData\\anaconda3\\Lib\\site-packages\\sqlalchemy\\engine\\base.py:1498\u001b[0m, in \u001b[0;36mConnection._execute_clauseelement\u001b[1;34m(self, elem, multiparams, params, execution_options)\u001b[0m\n\u001b[0;32m   1486\u001b[0m compiled_cache \u001b[38;5;241m=\u001b[39m execution_options\u001b[38;5;241m.\u001b[39mget(\n\u001b[0;32m   1487\u001b[0m     \u001b[38;5;124m\"\u001b[39m\u001b[38;5;124mcompiled_cache\u001b[39m\u001b[38;5;124m\"\u001b[39m, \u001b[38;5;28mself\u001b[39m\u001b[38;5;241m.\u001b[39mengine\u001b[38;5;241m.\u001b[39m_compiled_cache\n\u001b[0;32m   1488\u001b[0m )\n\u001b[0;32m   1490\u001b[0m compiled_sql, extracted_params, cache_hit \u001b[38;5;241m=\u001b[39m elem\u001b[38;5;241m.\u001b[39m_compile_w_cache(\n\u001b[0;32m   1491\u001b[0m     dialect\u001b[38;5;241m=\u001b[39mdialect,\n\u001b[0;32m   1492\u001b[0m     compiled_cache\u001b[38;5;241m=\u001b[39mcompiled_cache,\n\u001b[1;32m   (...)\u001b[0m\n\u001b[0;32m   1496\u001b[0m     linting\u001b[38;5;241m=\u001b[39m\u001b[38;5;28mself\u001b[39m\u001b[38;5;241m.\u001b[39mdialect\u001b[38;5;241m.\u001b[39mcompiler_linting \u001b[38;5;241m|\u001b[39m compiler\u001b[38;5;241m.\u001b[39mWARN_LINTING,\n\u001b[0;32m   1497\u001b[0m )\n\u001b[1;32m-> 1498\u001b[0m ret \u001b[38;5;241m=\u001b[39m \u001b[38;5;28mself\u001b[39m\u001b[38;5;241m.\u001b[39m_execute_context(\n\u001b[0;32m   1499\u001b[0m     dialect,\n\u001b[0;32m   1500\u001b[0m     dialect\u001b[38;5;241m.\u001b[39mexecution_ctx_cls\u001b[38;5;241m.\u001b[39m_init_compiled,\n\u001b[0;32m   1501\u001b[0m     compiled_sql,\n\u001b[0;32m   1502\u001b[0m     distilled_params,\n\u001b[0;32m   1503\u001b[0m     execution_options,\n\u001b[0;32m   1504\u001b[0m     compiled_sql,\n\u001b[0;32m   1505\u001b[0m     distilled_params,\n\u001b[0;32m   1506\u001b[0m     elem,\n\u001b[0;32m   1507\u001b[0m     extracted_params,\n\u001b[0;32m   1508\u001b[0m     cache_hit\u001b[38;5;241m=\u001b[39mcache_hit,\n\u001b[0;32m   1509\u001b[0m )\n\u001b[0;32m   1510\u001b[0m \u001b[38;5;28;01mif\u001b[39;00m has_events:\n\u001b[0;32m   1511\u001b[0m     \u001b[38;5;28mself\u001b[39m\u001b[38;5;241m.\u001b[39mdispatch\u001b[38;5;241m.\u001b[39mafter_execute(\n\u001b[0;32m   1512\u001b[0m         \u001b[38;5;28mself\u001b[39m,\n\u001b[0;32m   1513\u001b[0m         elem,\n\u001b[1;32m   (...)\u001b[0m\n\u001b[0;32m   1517\u001b[0m         ret,\n\u001b[0;32m   1518\u001b[0m     )\n",
      "File \u001b[1;32mC:\\ProgramData\\anaconda3\\Lib\\site-packages\\sqlalchemy\\engine\\base.py:1862\u001b[0m, in \u001b[0;36mConnection._execute_context\u001b[1;34m(self, dialect, constructor, statement, parameters, execution_options, *args, **kw)\u001b[0m\n\u001b[0;32m   1859\u001b[0m             branched\u001b[38;5;241m.\u001b[39mclose()\n\u001b[0;32m   1861\u001b[0m \u001b[38;5;28;01mexcept\u001b[39;00m \u001b[38;5;167;01mBaseException\u001b[39;00m \u001b[38;5;28;01mas\u001b[39;00m e:\n\u001b[1;32m-> 1862\u001b[0m     \u001b[38;5;28mself\u001b[39m\u001b[38;5;241m.\u001b[39m_handle_dbapi_exception(\n\u001b[0;32m   1863\u001b[0m         e, statement, parameters, cursor, context\n\u001b[0;32m   1864\u001b[0m     )\n\u001b[0;32m   1866\u001b[0m \u001b[38;5;28;01mreturn\u001b[39;00m result\n",
      "File \u001b[1;32mC:\\ProgramData\\anaconda3\\Lib\\site-packages\\sqlalchemy\\engine\\base.py:2043\u001b[0m, in \u001b[0;36mConnection._handle_dbapi_exception\u001b[1;34m(self, e, statement, parameters, cursor, context)\u001b[0m\n\u001b[0;32m   2041\u001b[0m     util\u001b[38;5;241m.\u001b[39mraise_(newraise, with_traceback\u001b[38;5;241m=\u001b[39mexc_info[\u001b[38;5;241m2\u001b[39m], from_\u001b[38;5;241m=\u001b[39me)\n\u001b[0;32m   2042\u001b[0m \u001b[38;5;28;01melif\u001b[39;00m should_wrap:\n\u001b[1;32m-> 2043\u001b[0m     util\u001b[38;5;241m.\u001b[39mraise_(\n\u001b[0;32m   2044\u001b[0m         sqlalchemy_exception, with_traceback\u001b[38;5;241m=\u001b[39mexc_info[\u001b[38;5;241m2\u001b[39m], from_\u001b[38;5;241m=\u001b[39me\n\u001b[0;32m   2045\u001b[0m     )\n\u001b[0;32m   2046\u001b[0m \u001b[38;5;28;01melse\u001b[39;00m:\n\u001b[0;32m   2047\u001b[0m     util\u001b[38;5;241m.\u001b[39mraise_(exc_info[\u001b[38;5;241m1\u001b[39m], with_traceback\u001b[38;5;241m=\u001b[39mexc_info[\u001b[38;5;241m2\u001b[39m])\n",
      "File \u001b[1;32mC:\\ProgramData\\anaconda3\\Lib\\site-packages\\sqlalchemy\\util\\compat.py:208\u001b[0m, in \u001b[0;36mraise_\u001b[1;34m(***failed resolving arguments***)\u001b[0m\n\u001b[0;32m    205\u001b[0m     exception\u001b[38;5;241m.\u001b[39m__cause__ \u001b[38;5;241m=\u001b[39m replace_context\n\u001b[0;32m    207\u001b[0m \u001b[38;5;28;01mtry\u001b[39;00m:\n\u001b[1;32m--> 208\u001b[0m     \u001b[38;5;28;01mraise\u001b[39;00m exception\n\u001b[0;32m    209\u001b[0m \u001b[38;5;28;01mfinally\u001b[39;00m:\n\u001b[0;32m    210\u001b[0m     \u001b[38;5;66;03m# credit to\u001b[39;00m\n\u001b[0;32m    211\u001b[0m     \u001b[38;5;66;03m# https://cosmicpercolator.com/2016/01/13/exception-leaks-in-python-2-and-3/\u001b[39;00m\n\u001b[0;32m    212\u001b[0m     \u001b[38;5;66;03m# as the __traceback__ object creates a cycle\u001b[39;00m\n\u001b[0;32m    213\u001b[0m     \u001b[38;5;28;01mdel\u001b[39;00m exception, replace_context, from_, with_traceback\n",
      "File \u001b[1;32mC:\\ProgramData\\anaconda3\\Lib\\site-packages\\sqlalchemy\\engine\\base.py:1819\u001b[0m, in \u001b[0;36mConnection._execute_context\u001b[1;34m(self, dialect, constructor, statement, parameters, execution_options, *args, **kw)\u001b[0m\n\u001b[0;32m   1817\u001b[0m                 \u001b[38;5;28;01mbreak\u001b[39;00m\n\u001b[0;32m   1818\u001b[0m     \u001b[38;5;28;01mif\u001b[39;00m \u001b[38;5;129;01mnot\u001b[39;00m evt_handled:\n\u001b[1;32m-> 1819\u001b[0m         \u001b[38;5;28mself\u001b[39m\u001b[38;5;241m.\u001b[39mdialect\u001b[38;5;241m.\u001b[39mdo_execute(\n\u001b[0;32m   1820\u001b[0m             cursor, statement, parameters, context\n\u001b[0;32m   1821\u001b[0m         )\n\u001b[0;32m   1823\u001b[0m \u001b[38;5;28;01mif\u001b[39;00m \u001b[38;5;28mself\u001b[39m\u001b[38;5;241m.\u001b[39m_has_events \u001b[38;5;129;01mor\u001b[39;00m \u001b[38;5;28mself\u001b[39m\u001b[38;5;241m.\u001b[39mengine\u001b[38;5;241m.\u001b[39m_has_events:\n\u001b[0;32m   1824\u001b[0m     \u001b[38;5;28mself\u001b[39m\u001b[38;5;241m.\u001b[39mdispatch\u001b[38;5;241m.\u001b[39mafter_cursor_execute(\n\u001b[0;32m   1825\u001b[0m         \u001b[38;5;28mself\u001b[39m,\n\u001b[0;32m   1826\u001b[0m         cursor,\n\u001b[1;32m   (...)\u001b[0m\n\u001b[0;32m   1830\u001b[0m         context\u001b[38;5;241m.\u001b[39mexecutemany,\n\u001b[0;32m   1831\u001b[0m     )\n",
      "File \u001b[1;32mC:\\ProgramData\\anaconda3\\Lib\\site-packages\\sqlalchemy\\engine\\default.py:732\u001b[0m, in \u001b[0;36mDefaultDialect.do_execute\u001b[1;34m(self, cursor, statement, parameters, context)\u001b[0m\n\u001b[0;32m    731\u001b[0m \u001b[38;5;28;01mdef\u001b[39;00m \u001b[38;5;21mdo_execute\u001b[39m(\u001b[38;5;28mself\u001b[39m, cursor, statement, parameters, context\u001b[38;5;241m=\u001b[39m\u001b[38;5;28;01mNone\u001b[39;00m):\n\u001b[1;32m--> 732\u001b[0m     cursor\u001b[38;5;241m.\u001b[39mexecute(statement, parameters)\n",
      "File \u001b[1;32mC:\\ProgramData\\anaconda3\\Lib\\site-packages\\pymysql\\cursors.py:153\u001b[0m, in \u001b[0;36mCursor.execute\u001b[1;34m(self, query, args)\u001b[0m\n\u001b[0;32m    149\u001b[0m     \u001b[38;5;28;01mpass\u001b[39;00m\n\u001b[0;32m    151\u001b[0m query \u001b[38;5;241m=\u001b[39m \u001b[38;5;28mself\u001b[39m\u001b[38;5;241m.\u001b[39mmogrify(query, args)\n\u001b[1;32m--> 153\u001b[0m result \u001b[38;5;241m=\u001b[39m \u001b[38;5;28mself\u001b[39m\u001b[38;5;241m.\u001b[39m_query(query)\n\u001b[0;32m    154\u001b[0m \u001b[38;5;28mself\u001b[39m\u001b[38;5;241m.\u001b[39m_executed \u001b[38;5;241m=\u001b[39m query\n\u001b[0;32m    155\u001b[0m \u001b[38;5;28;01mreturn\u001b[39;00m result\n",
      "File \u001b[1;32mC:\\ProgramData\\anaconda3\\Lib\\site-packages\\pymysql\\cursors.py:322\u001b[0m, in \u001b[0;36mCursor._query\u001b[1;34m(self, q)\u001b[0m\n\u001b[0;32m    320\u001b[0m conn \u001b[38;5;241m=\u001b[39m \u001b[38;5;28mself\u001b[39m\u001b[38;5;241m.\u001b[39m_get_db()\n\u001b[0;32m    321\u001b[0m \u001b[38;5;28mself\u001b[39m\u001b[38;5;241m.\u001b[39m_clear_result()\n\u001b[1;32m--> 322\u001b[0m conn\u001b[38;5;241m.\u001b[39mquery(q)\n\u001b[0;32m    323\u001b[0m \u001b[38;5;28mself\u001b[39m\u001b[38;5;241m.\u001b[39m_do_get_result()\n\u001b[0;32m    324\u001b[0m \u001b[38;5;28;01mreturn\u001b[39;00m \u001b[38;5;28mself\u001b[39m\u001b[38;5;241m.\u001b[39mrowcount\n",
      "File \u001b[1;32mC:\\ProgramData\\anaconda3\\Lib\\site-packages\\pymysql\\connections.py:558\u001b[0m, in \u001b[0;36mConnection.query\u001b[1;34m(self, sql, unbuffered)\u001b[0m\n\u001b[0;32m    556\u001b[0m     sql \u001b[38;5;241m=\u001b[39m sql\u001b[38;5;241m.\u001b[39mencode(\u001b[38;5;28mself\u001b[39m\u001b[38;5;241m.\u001b[39mencoding, \u001b[38;5;124m\"\u001b[39m\u001b[38;5;124msurrogateescape\u001b[39m\u001b[38;5;124m\"\u001b[39m)\n\u001b[0;32m    557\u001b[0m \u001b[38;5;28mself\u001b[39m\u001b[38;5;241m.\u001b[39m_execute_command(COMMAND\u001b[38;5;241m.\u001b[39mCOM_QUERY, sql)\n\u001b[1;32m--> 558\u001b[0m \u001b[38;5;28mself\u001b[39m\u001b[38;5;241m.\u001b[39m_affected_rows \u001b[38;5;241m=\u001b[39m \u001b[38;5;28mself\u001b[39m\u001b[38;5;241m.\u001b[39m_read_query_result(unbuffered\u001b[38;5;241m=\u001b[39munbuffered)\n\u001b[0;32m    559\u001b[0m \u001b[38;5;28;01mreturn\u001b[39;00m \u001b[38;5;28mself\u001b[39m\u001b[38;5;241m.\u001b[39m_affected_rows\n",
      "File \u001b[1;32mC:\\ProgramData\\anaconda3\\Lib\\site-packages\\pymysql\\connections.py:822\u001b[0m, in \u001b[0;36mConnection._read_query_result\u001b[1;34m(self, unbuffered)\u001b[0m\n\u001b[0;32m    820\u001b[0m \u001b[38;5;28;01melse\u001b[39;00m:\n\u001b[0;32m    821\u001b[0m     result \u001b[38;5;241m=\u001b[39m MySQLResult(\u001b[38;5;28mself\u001b[39m)\n\u001b[1;32m--> 822\u001b[0m     result\u001b[38;5;241m.\u001b[39mread()\n\u001b[0;32m    823\u001b[0m \u001b[38;5;28mself\u001b[39m\u001b[38;5;241m.\u001b[39m_result \u001b[38;5;241m=\u001b[39m result\n\u001b[0;32m    824\u001b[0m \u001b[38;5;28;01mif\u001b[39;00m result\u001b[38;5;241m.\u001b[39mserver_status \u001b[38;5;129;01mis\u001b[39;00m \u001b[38;5;129;01mnot\u001b[39;00m \u001b[38;5;28;01mNone\u001b[39;00m:\n",
      "File \u001b[1;32mC:\\ProgramData\\anaconda3\\Lib\\site-packages\\pymysql\\connections.py:1200\u001b[0m, in \u001b[0;36mMySQLResult.read\u001b[1;34m(self)\u001b[0m\n\u001b[0;32m   1198\u001b[0m \u001b[38;5;28;01mdef\u001b[39;00m \u001b[38;5;21mread\u001b[39m(\u001b[38;5;28mself\u001b[39m):\n\u001b[0;32m   1199\u001b[0m     \u001b[38;5;28;01mtry\u001b[39;00m:\n\u001b[1;32m-> 1200\u001b[0m         first_packet \u001b[38;5;241m=\u001b[39m \u001b[38;5;28mself\u001b[39m\u001b[38;5;241m.\u001b[39mconnection\u001b[38;5;241m.\u001b[39m_read_packet()\n\u001b[0;32m   1202\u001b[0m         \u001b[38;5;28;01mif\u001b[39;00m first_packet\u001b[38;5;241m.\u001b[39mis_ok_packet():\n\u001b[0;32m   1203\u001b[0m             \u001b[38;5;28mself\u001b[39m\u001b[38;5;241m.\u001b[39m_read_ok_packet(first_packet)\n",
      "File \u001b[1;32mC:\\ProgramData\\anaconda3\\Lib\\site-packages\\pymysql\\connections.py:772\u001b[0m, in \u001b[0;36mConnection._read_packet\u001b[1;34m(self, packet_type)\u001b[0m\n\u001b[0;32m    770\u001b[0m     \u001b[38;5;28;01mif\u001b[39;00m \u001b[38;5;28mself\u001b[39m\u001b[38;5;241m.\u001b[39m_result \u001b[38;5;129;01mis\u001b[39;00m \u001b[38;5;129;01mnot\u001b[39;00m \u001b[38;5;28;01mNone\u001b[39;00m \u001b[38;5;129;01mand\u001b[39;00m \u001b[38;5;28mself\u001b[39m\u001b[38;5;241m.\u001b[39m_result\u001b[38;5;241m.\u001b[39munbuffered_active \u001b[38;5;129;01mis\u001b[39;00m \u001b[38;5;28;01mTrue\u001b[39;00m:\n\u001b[0;32m    771\u001b[0m         \u001b[38;5;28mself\u001b[39m\u001b[38;5;241m.\u001b[39m_result\u001b[38;5;241m.\u001b[39munbuffered_active \u001b[38;5;241m=\u001b[39m \u001b[38;5;28;01mFalse\u001b[39;00m\n\u001b[1;32m--> 772\u001b[0m     packet\u001b[38;5;241m.\u001b[39mraise_for_error()\n\u001b[0;32m    773\u001b[0m \u001b[38;5;28;01mreturn\u001b[39;00m packet\n",
      "File \u001b[1;32mC:\\ProgramData\\anaconda3\\Lib\\site-packages\\pymysql\\protocol.py:221\u001b[0m, in \u001b[0;36mMysqlPacket.raise_for_error\u001b[1;34m(self)\u001b[0m\n\u001b[0;32m    219\u001b[0m \u001b[38;5;28;01mif\u001b[39;00m DEBUG:\n\u001b[0;32m    220\u001b[0m     \u001b[38;5;28mprint\u001b[39m(\u001b[38;5;124m\"\u001b[39m\u001b[38;5;124merrno =\u001b[39m\u001b[38;5;124m\"\u001b[39m, errno)\n\u001b[1;32m--> 221\u001b[0m err\u001b[38;5;241m.\u001b[39mraise_mysql_exception(\u001b[38;5;28mself\u001b[39m\u001b[38;5;241m.\u001b[39m_data)\n",
      "File \u001b[1;32mC:\\ProgramData\\anaconda3\\Lib\\site-packages\\pymysql\\err.py:143\u001b[0m, in \u001b[0;36mraise_mysql_exception\u001b[1;34m(data)\u001b[0m\n\u001b[0;32m    141\u001b[0m \u001b[38;5;28;01mif\u001b[39;00m errorclass \u001b[38;5;129;01mis\u001b[39;00m \u001b[38;5;28;01mNone\u001b[39;00m:\n\u001b[0;32m    142\u001b[0m     errorclass \u001b[38;5;241m=\u001b[39m InternalError \u001b[38;5;28;01mif\u001b[39;00m errno \u001b[38;5;241m<\u001b[39m \u001b[38;5;241m1000\u001b[39m \u001b[38;5;28;01melse\u001b[39;00m OperationalError\n\u001b[1;32m--> 143\u001b[0m \u001b[38;5;28;01mraise\u001b[39;00m errorclass(errno, errval)\n",
      "\u001b[1;31mOperationalError\u001b[0m: (pymysql.err.OperationalError) (1363, 'There is no NEW row in on DELETE trigger')\n[SQL: \n            CREATE TRIGGER delete_data AFTER DELETE ON appointments\n            FOR EACH ROW\n            BEGIN\n                DECLARE node_get VARCHAR(255);\n                SET node_get = (SELECT CASE \n                    WHEN NEW.RegionName = 'Western Visayas (VI)'\n                    OR NEW.RegionName = 'Central Visayas (VII)'\n                    OR NEW.RegionName = 'Eastern Visayas (VIII)'\n                    OR NEW.RegionName = 'Northern Mindanao (X)'\n                    OR NEW.RegionName = 'SOCCSKSARGEN (XII)'\n                    THEN 'node_3'\n                    ELSE 'node_2'\n                END);\n                INSERT INTO logs (`action_time`, `action`, `node`, `apptid`, `status`, `TimeQueued`, `QueueDate`, `StartTime`, `EndTime`, `type`, `Virtual`, `hospitalname`, `IsHospital`, `City`, `Province`, `RegionName`, `mainspecialty`, `patientage`, `patientgender`)\n                VALUES(NOW(), 'DELETE', node_get, OLD.apptid, OLD.status, OLD.TimeQueued, OLD.QueueDate, \n        OLD.StartTime, OLD.EndTime, OLD.type, OLD.Virtual, OLD.hospitalname, OLD.IsHospital, OLD.City, \n        OLD.Province, OLD.RegionName, OLD.mainspecialty, OLD.patientage, OLD.patientgender);\n            END;\n        ]\n(Background on this error at: https://sqlalche.me/e/14/e3q8)"
     ]
    }
   ],
   "source": [
    "with engine0.connect() as conn:\n",
    "    conn.execute(drop_triggers('center', 'insert'))\n",
    "    conn.execute(drop_triggers('center', 'update'))\n",
    "    conn.execute(drop_triggers('center', 'delete'))\n",
    "    conn.execute(create_triggers('insert'))\n",
    "    conn.execute(create_triggers('update'))\n",
    "    conn.execute(create_triggers('delete'))\n",
    "    print(\"TRIGGERS CREATED IN Central NODE\")"
   ]
  },
  {
   "cell_type": "markdown",
   "id": "f83d2a59",
   "metadata": {},
   "source": [
    "### Luzon Node"
   ]
  },
  {
   "cell_type": "code",
   "execution_count": 7,
   "id": "d891b0b0",
   "metadata": {},
   "outputs": [
    {
     "name": "stdout",
     "output_type": "stream",
     "text": [
      "TRIGGERS CREATED IN Luzon NODE\n"
     ]
    }
   ],
   "source": [
    "with engine1.connect() as conn:\n",
    "    conn.execute(drop_triggers('node_2')[0])\n",
    "    conn.execute(drop_triggers('node_2')[1])\n",
    "    conn.execute(drop_triggers('node_2')[2])\n",
    "    \n",
    "    conn.execute(create_triggers()[0])\n",
    "    conn.execute(create_triggers()[1])\n",
    "    conn.execute(create_triggers()[2])\n",
    "    print(\"TRIGGERS CREATED IN Luzon NODE\")"
   ]
  },
  {
   "cell_type": "markdown",
   "id": "7a252532",
   "metadata": {},
   "source": [
    "### VisMin Node"
   ]
  },
  {
   "cell_type": "code",
   "execution_count": 8,
   "id": "e53e45f0",
   "metadata": {},
   "outputs": [
    {
     "name": "stdout",
     "output_type": "stream",
     "text": [
      "TRIGGERS CREATED IN VisMin NODE\n"
     ]
    }
   ],
   "source": [
    "with engine2.connect() as conn:\n",
    "    conn.execute(drop_triggers('node_3')[0])\n",
    "    conn.execute(drop_triggers('node_3')[1])\n",
    "    conn.execute(drop_triggers('node_3')[2])\n",
    "\n",
    "    conn.execute(create_triggers()[0])\n",
    "    conn.execute(create_triggers()[1])\n",
    "    conn.execute(create_triggers()[2])\n",
    "    print(\"TRIGGERS CREATED IN VisMin NODE\")"
   ]
  },
  {
   "cell_type": "code",
   "execution_count": null,
   "id": "f590d12a",
   "metadata": {},
   "outputs": [],
   "source": []
  }
 ],
 "metadata": {
  "kernelspec": {
   "display_name": "Python 3 (ipykernel)",
   "language": "python",
   "name": "python3"
  },
  "language_info": {
   "codemirror_mode": {
    "name": "ipython",
    "version": 3
   },
   "file_extension": ".py",
   "mimetype": "text/x-python",
   "name": "python",
   "nbconvert_exporter": "python",
   "pygments_lexer": "ipython3",
   "version": "3.11.4"
  }
 },
 "nbformat": 4,
 "nbformat_minor": 5
}

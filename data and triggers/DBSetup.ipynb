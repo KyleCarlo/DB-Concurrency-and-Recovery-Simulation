{
 "cells": [
  {
   "cell_type": "markdown",
   "id": "e0ce9e2b",
   "metadata": {},
   "source": [
    "# Installation"
   ]
  },
  {
   "cell_type": "code",
   "execution_count": null,
   "id": "45dd8c7b",
   "metadata": {},
   "outputs": [],
   "source": [
    "!pip install pandas\n",
    "!pip install numpy\n",
    "!pip install sqlalchemy\n",
    "!pip install pymysql"
   ]
  },
  {
   "cell_type": "markdown",
   "id": "c2bddc10",
   "metadata": {},
   "source": [
    "Import libraries"
   ]
  },
  {
   "cell_type": "code",
   "execution_count": 1,
   "id": "4e0f0c72",
   "metadata": {},
   "outputs": [],
   "source": [
    "import pandas as pd\n",
    "import numpy as np\n",
    "import sqlalchemy as db\n",
    "import json"
   ]
  },
  {
   "cell_type": "markdown",
   "id": "295a4465",
   "metadata": {},
   "source": [
    "# Extract"
   ]
  },
  {
   "cell_type": "markdown",
   "id": "f1db239c",
   "metadata": {},
   "source": [
    "Read CSV files"
   ]
  },
  {
   "cell_type": "markdown",
   "id": "362d8d19",
   "metadata": {},
   "source": [
    "Load Progress"
   ]
  },
  {
   "cell_type": "code",
   "execution_count": 2,
   "id": "fc0f3d35",
   "metadata": {},
   "outputs": [],
   "source": [
    "doctors = pd.read_parquet('cleaned/doctors.parquet')\n",
    "clinics = pd.read_parquet('cleaned/clinics.parquet')\n",
    "px = pd.DataFrame()\n",
    "for i in range(8):\n",
    "    temp = pd.read_parquet(f\"cleaned/px_{i+1}.parquet\")\n",
    "    px = pd.concat([px,temp])\n",
    "appointments = pd.read_parquet('cleaned/appointments.parquet')"
   ]
  },
  {
   "cell_type": "code",
   "execution_count": 3,
   "id": "f40a7ff6-111f-4f1e-85dc-eba9e6881eeb",
   "metadata": {},
   "outputs": [],
   "source": [
    "del doctors['age']"
   ]
  },
  {
   "cell_type": "code",
   "execution_count": 4,
   "id": "954b9d68-9b34-4b95-bcc5-3b452ba5db00",
   "metadata": {},
   "outputs": [],
   "source": [
    "merge_df = pd.merge(appointments, clinics, on = 'clinicid', how = 'inner')"
   ]
  },
  {
   "cell_type": "code",
   "execution_count": 5,
   "id": "6b9cf7c3-c385-4871-90a6-d377599989ea",
   "metadata": {},
   "outputs": [],
   "source": [
    "merge_df = pd.merge(merge_df, doctors, on = 'doctorid', how = 'inner')"
   ]
  },
  {
   "cell_type": "code",
   "execution_count": 6,
   "id": "b3868d3a-2f78-44e7-9a22-591f84d271c3",
   "metadata": {},
   "outputs": [],
   "source": [
    "merge_df = pd.merge(merge_df, px, on = 'pxid', how = 'inner')"
   ]
  },
  {
   "cell_type": "code",
   "execution_count": 7,
   "id": "e198eb28-1782-4b53-aac5-dc2f6cd3a95d",
   "metadata": {},
   "outputs": [],
   "source": [
    "merge_df.rename(columns={'age': 'patientage'}, inplace=True)\n",
    "merge_df.rename(columns={'gender': 'patientgender'}, inplace=True)"
   ]
  },
  {
   "cell_type": "code",
   "execution_count": 8,
   "id": "b8fb75e6-ba3a-4030-84fe-01acf07af770",
   "metadata": {},
   "outputs": [],
   "source": [
    "luzon_df = merge_df[merge_df['RegionName'].isin(['National Capital Region (NCR)', \n",
    "                                                 'CALABARZON (IV-A)', \n",
    "                                                 'Ilocos Region (I)', \n",
    "                                                 'Bicol Region (V)', \n",
    "                                                 'Central Luzon (III)'])]\n",
    "\n",
    "visayas_mindanao_df = merge_df[merge_df['RegionName'].isin(['Central Visayas (VII)', \n",
    "                                                            'SOCCSKSARGEN (Cotabato Region) (XII)', \n",
    "                                                            'Northern Mindanao (X)', \n",
    "                                                            'Eastern Visayas (VIII)', \n",
    "                                                            'Western Visayas (VI)'])]"
   ]
  },
  {
   "cell_type": "markdown",
   "id": "e667cb9d",
   "metadata": {},
   "source": [
    "# Insert Data to MySQL DB"
   ]
  },
  {
   "cell_type": "markdown",
   "id": "f1fa4e56",
   "metadata": {},
   "source": [
    "abstracted `connection.json` "
   ]
  },
  {
   "cell_type": "code",
   "execution_count": 9,
   "id": "e200b0fd",
   "metadata": {},
   "outputs": [],
   "source": [
    "connection = open('connection.json')\n",
    "connection = json.load(connection)\n",
    "host = connection['host']\n",
    "user = connection['user']\n",
    "password = connection['password']\n",
    "port0 = connection['port0']\n",
    "port1 = connection['port1']\n",
    "port2 = connection['port2']\n",
    "\n",
    "db_name0 = 'center'\n",
    "engine0 = db.create_engine('mysql+pymysql://' + user + ':' + password + '@' + host + ':' + port0)\n",
    "\n",
    "db_name1 = 'node_2'\n",
    "engine1 = db.create_engine('mysql+pymysql://' + user + ':' + password + '@' + host + ':' + port1)\n",
    "\n",
    "db_name2 = 'node_3'\n",
    "engine2 = db.create_engine('mysql+pymysql://' + user + ':' + password + '@' + host + ':' + port2)"
   ]
  },
  {
   "cell_type": "markdown",
   "id": "16a62b4f",
   "metadata": {},
   "source": [
    "Define the schemas of CSV files"
   ]
  },
  {
   "cell_type": "code",
   "execution_count": 10,
   "id": "44743ec3",
   "metadata": {},
   "outputs": [],
   "source": [
    "# appointments schema\n",
    "appointments_schema = {\n",
    "    \"pxid\":db.types.VARCHAR(32),\n",
    "    \"clinicid\":db.types.VARCHAR(32),\n",
    "    \"doctorid\":db.types.VARCHAR(32),\n",
    "    \"apptid\":db.types.VARCHAR(32),\n",
    "    \"status\":db.types.Enum(\"Queued\", \"Complete\", \"Serving\",\"Cancel\",\"NoShow\",\"Skip\"),\n",
    "    \"TimeQueued\":db.types.DATETIME(),\n",
    "    \"QueueDate\":db.types.DATE(),\n",
    "    \"StartTime\":db.types.DATETIME(),\n",
    "    \"EndTime\":db.types.DATETIME(),\n",
    "    \"type\":db.types.Enum(\"Consultation\",\"Inpatient\"),\n",
    "    \"Virtual\":db.types.BOOLEAN(),\n",
    "    \"hospitalname\":db.types.VARCHAR(255),\n",
    "    \"IsHospital\":db.types.BOOLEAN(),\n",
    "    \"City\":db.types.VARCHAR(255),\n",
    "    \"Province\":db.types.VARCHAR(255),\n",
    "    \"RegionName\":db.types.VARCHAR(255),\n",
    "    \"mainspecialty\":db.types.VARCHAR(255),\n",
    "    \"patientage\":db.dialects.mysql.TINYINT(255),\n",
    "    \"patientgender\":db.types.Enum(\"MALE\", \"FEMALE\")\n",
    "}"
   ]
  },
  {
   "cell_type": "markdown",
   "id": "19043c66",
   "metadata": {},
   "source": [
    "Insert the merge_df to central node"
   ]
  },
  {
   "cell_type": "code",
   "execution_count": 11,
   "id": "dba35fb7",
   "metadata": {},
   "outputs": [],
   "source": [
    "# central node\n",
    "with engine0.connect() as conn:\n",
    "    conn.execute(db.text(\"DROP DATABASE IF EXISTS `\" + db_name0 + \"`;\"))\n",
    "    conn.execute(db.text(\"CREATE DATABASE `\" + db_name0 + \"`;\"))\n",
    "engine0 = db.create_engine('mysql+pymysql://' + user + ':' + password + '@' + host + ':' + port0 + '/' + db_name0)"
   ]
  },
  {
   "cell_type": "code",
   "execution_count": 12,
   "id": "752121fc",
   "metadata": {},
   "outputs": [
    {
     "data": {
      "text/plain": [
       "320140"
      ]
     },
     "execution_count": 12,
     "metadata": {},
     "output_type": "execute_result"
    }
   ],
   "source": [
    "merge_df.to_sql('appointments', engine0, if_exists='replace', index=False, dtype=appointments_schema)"
   ]
  },
  {
   "cell_type": "code",
   "execution_count": 13,
   "id": "fde35951",
   "metadata": {},
   "outputs": [
    {
     "name": "stdout",
     "output_type": "stream",
     "text": [
      "apptid IS A PRIMARY KEY IN CENTRAL NODE\n"
     ]
    }
   ],
   "source": [
    "with engine0.connect() as conn:\n",
    "    conn.execute(db.text(\"\"\"\n",
    "        ALTER TABLE `\"\"\" + db_name0 + \"\"\"`.`appointments` \n",
    "        CHANGE COLUMN `apptid` `apptid` VARCHAR(32) NOT NULL ,\n",
    "        ADD PRIMARY KEY (`apptid`);\n",
    "    \"\"\"))\n",
    "    print(\"apptid IS A PRIMARY KEY IN CENTRAL NODE\")"
   ]
  },
  {
   "cell_type": "markdown",
   "id": "1ee9e05b",
   "metadata": {},
   "source": [
    "Insert the luzon_df to node 2"
   ]
  },
  {
   "cell_type": "code",
   "execution_count": 14,
   "id": "f828dc70",
   "metadata": {},
   "outputs": [],
   "source": [
    "# node 2\n",
    "with engine1.connect() as conn:\n",
    "    conn.execute(db.text(\"DROP DATABASE IF EXISTS `\" + db_name1 + \"`;\"))\n",
    "    conn.execute(db.text(\"CREATE DATABASE `\" + db_name1 + \"`;\"))\n",
    "engine1 = db.create_engine('mysql+pymysql://' + user + ':' + password + '@' + host + ':' + port1 + '/' + db_name1)"
   ]
  },
  {
   "cell_type": "code",
   "execution_count": 15,
   "id": "d0f8be12",
   "metadata": {},
   "outputs": [
    {
     "data": {
      "text/plain": [
       "261600"
      ]
     },
     "execution_count": 15,
     "metadata": {},
     "output_type": "execute_result"
    }
   ],
   "source": [
    "luzon_df.to_sql('appointments', engine1, if_exists='replace', index=False, dtype=appointments_schema)"
   ]
  },
  {
   "cell_type": "code",
   "execution_count": 16,
   "id": "b38894e1",
   "metadata": {},
   "outputs": [
    {
     "name": "stdout",
     "output_type": "stream",
     "text": [
      "apptid IS A PRIMARY KEY IN NODE 2\n"
     ]
    }
   ],
   "source": [
    "with engine1.connect() as conn:\n",
    "    conn.execute(db.text(\"\"\"\n",
    "        ALTER TABLE `\"\"\" + db_name1 + \"\"\"`.`appointments` \n",
    "        CHANGE COLUMN `apptid` `apptid` VARCHAR(32) NOT NULL ,\n",
    "        ADD PRIMARY KEY (`apptid`);\n",
    "    \"\"\"))\n",
    "    print(\"apptid IS A PRIMARY KEY IN NODE 2\")"
   ]
  },
  {
   "cell_type": "markdown",
   "id": "9bf07a0e",
   "metadata": {},
   "source": [
    "Insert the visayas_mindanao_df to node 3"
   ]
  },
  {
   "cell_type": "code",
   "execution_count": 17,
   "id": "3fda8bce",
   "metadata": {},
   "outputs": [],
   "source": [
    "# node 3\n",
    "with engine2.connect() as conn:\n",
    "    conn.execute(db.text(\"DROP DATABASE IF EXISTS `\" + db_name2 + \"`;\"))\n",
    "    conn.execute(db.text(\"CREATE DATABASE `\" + db_name2 + \"`;\"))\n",
    "engine2 = db.create_engine('mysql+pymysql://' + user + ':' + password + '@' + host + ':' + port2 + '/' + db_name2)"
   ]
  },
  {
   "cell_type": "code",
   "execution_count": 18,
   "id": "2cac5865",
   "metadata": {},
   "outputs": [
    {
     "data": {
      "text/plain": [
       "58540"
      ]
     },
     "execution_count": 18,
     "metadata": {},
     "output_type": "execute_result"
    }
   ],
   "source": [
    "visayas_mindanao_df.to_sql('appointments', engine2, if_exists='replace', index=False, dtype=appointments_schema)"
   ]
  },
  {
   "cell_type": "code",
   "execution_count": 19,
   "id": "08d1960b",
   "metadata": {},
   "outputs": [
    {
     "name": "stdout",
     "output_type": "stream",
     "text": [
      "apptid IS A PRIMARY KEY IN NODE 3\n"
     ]
    }
   ],
   "source": [
    "with engine2.connect() as conn:\n",
    "    conn.execute(db.text(\"\"\"\n",
    "        ALTER TABLE `\"\"\" + db_name2 + \"\"\"`.`appointments` \n",
    "        CHANGE COLUMN `apptid` `apptid` VARCHAR(32) NOT NULL ,\n",
    "        ADD PRIMARY KEY (`apptid`);\n",
    "    \"\"\"))\n",
    "    print(\"apptid IS A PRIMARY KEY IN NODE 3\")"
   ]
  },
  {
   "cell_type": "markdown",
   "id": "6ff43099",
   "metadata": {},
   "source": [
    "# Setup Logs in MySQL DB"
   ]
  },
  {
   "cell_type": "markdown",
   "id": "37d018d5",
   "metadata": {},
   "source": [
    "## Variable Setup"
   ]
  },
  {
   "cell_type": "code",
   "execution_count": 124,
   "id": "5b358cc6",
   "metadata": {},
   "outputs": [],
   "source": [
    "connection = open('connection.json')\n",
    "connection = json.load(connection)\n",
    "host = connection['host']\n",
    "user = connection['user']\n",
    "password = connection['password']\n",
    "port0 = connection['port0']\n",
    "port1 = connection['port1']\n",
    "port2 = connection['port2']\n",
    "\n",
    "db_name0 = 'center'\n",
    "engine0 = db.create_engine('mysql+pymysql://' + user + ':' + password + '@' + host + ':' + port0 + '/' + db_name0)\n",
    "\n",
    "db_name1 = 'node_2'\n",
    "engine1 = db.create_engine('mysql+pymysql://' + user + ':' + password + '@' + host + ':' + port1 + '/' + db_name1)\n",
    "\n",
    "db_name2 = 'node_3'\n",
    "engine2 = db.create_engine('mysql+pymysql://' + user + ':' + password + '@' + host + ':' + port2 + '/' + db_name2)\n",
    "\n",
    "# LOGS TABLE\n",
    "drop_logs = db.text(\"DROP TABLE IF EXISTS logs;\")\n",
    "\n",
    "def create_logs(centered):\n",
    "    if not centered:\n",
    "        auto_inc = \"AUTO_INCREMENT\"\n",
    "    else:\n",
    "        auto_inc = \"\"\n",
    "        \n",
    "    return db.text(f\"\"\"\n",
    "        CREATE TABLE logs (\n",
    "            `id` INT {auto_inc},\n",
    "            `node` enum('node_2', 'node_3'),\n",
    "            `action_time` TIMESTAMP NOT NULL,\n",
    "            `action` varchar(255),\n",
    "            `apptid` varchar(32) NOT NULL,\n",
    "            `status` enum('Queued','Complete','Serving','Cancel','NoShow','Skip') DEFAULT NULL,\n",
    "            `TimeQueued` datetime DEFAULT NULL,\n",
    "            `QueueDate` date DEFAULT NULL,\n",
    "            `StartTime` datetime DEFAULT NULL,\n",
    "            `EndTime` datetime DEFAULT NULL,\n",
    "            `type` enum('Consultation','Inpatient') DEFAULT NULL,\n",
    "            `Virtual` tinyint(1) DEFAULT NULL,\n",
    "            `hospitalname` varchar(255) DEFAULT NULL,\n",
    "            `IsHospital` tinyint(1) DEFAULT NULL,\n",
    "            `City` varchar(255) DEFAULT NULL,\n",
    "            `Province` varchar(255) DEFAULT NULL,\n",
    "            `RegionName` varchar(255) DEFAULT NULL,\n",
    "            `mainspecialty` varchar(255) DEFAULT NULL,\n",
    "            `patientage` tinyint DEFAULT NULL,\n",
    "            `patientgender` enum('MALE','FEMALE') DEFAULT NULL,\n",
    "            PRIMARY KEY (`id`,`node`)\n",
    "        );\n",
    "    \"\"\")\n",
    "\n",
    "# TRIGGERS\n",
    "def drop_triggers(db_name,q):\n",
    "    return db.text(f\"DROP TRIGGER IF EXISTS {db_name}.{q.lower()}_data;\")\n",
    "\n",
    "def create_triggers(q, centered):\n",
    "    if q.upper() == 'DELETE':\n",
    "        old_new = 'OLD'\n",
    "    else:\n",
    "        old_new = 'NEW'\n",
    "        \n",
    "    node_selection = f\"\"\"\n",
    "        SELECT CASE \n",
    "            WHEN {old_new}.RegionName = 'Western Visayas (VI)'\n",
    "              OR {old_new}.RegionName = 'Central Visayas (VII)'\n",
    "              OR {old_new}.RegionName = 'Eastern Visayas (VIII)'\n",
    "              OR {old_new}.RegionName = 'Northern Mindanao (X)'\n",
    "              OR {old_new}.RegionName = 'SOCCSKSARGEN (Cotabato Region) (XII)'\n",
    "            THEN 'node_3'\n",
    "            ELSE 'node_2'\n",
    "        END\n",
    "    \"\"\"\n",
    "    values = f\"\"\"NOW(), '{q.upper()}', node_get, {old_new}.apptid, {old_new}.status, {old_new}.TimeQueued, {old_new}.QueueDate, \n",
    "        {old_new}.StartTime, {old_new}.EndTime, {old_new}.type, {old_new}.Virtual, {old_new}.hospitalname, {old_new}.IsHospital, {old_new}.City, \n",
    "        {old_new}.Province, {old_new}.RegionName, {old_new}.mainspecialty, {old_new}.patientage, {old_new}.patientgender\"\"\"\n",
    "    if not centered: \n",
    "        return db.text(f\"\"\"\n",
    "                CREATE TRIGGER {q.lower()}_data AFTER {q.upper()} ON appointments\n",
    "                FOR EACH ROW\n",
    "                BEGIN\n",
    "                    DECLARE node_get VARCHAR(255);\n",
    "                    SET node_get = ({node_selection});\n",
    "                    INSERT INTO logs (`action_time`, `action`, `node`, `apptid`, `status`, `TimeQueued`, `QueueDate`, `StartTime`, `EndTime`, `type`, `Virtual`, `hospitalname`, `IsHospital`, `City`, `Province`, `RegionName`, `mainspecialty`, `patientage`, `patientgender`)\n",
    "                    VALUES({values});\n",
    "                END;\n",
    "            \"\"\")\n",
    "    else:\n",
    "        return db.text(f\"\"\"\n",
    "                CREATE TRIGGER {q.lower()}_data AFTER {q.upper()} ON appointments\n",
    "                FOR EACH ROW\n",
    "                BEGIN\n",
    "                    DECLARE id_get INT;\n",
    "                    DECLARE node_get VARCHAR(255);\n",
    "                    SET node_get = ({node_selection});\n",
    "                    SET id_get = (\n",
    "                        SELECT MAX(id) FROM logs WHERE node = node_get\n",
    "                    );\n",
    "                    SET id_get = (SELECT CASE\n",
    "                        WHEN id_get IS NULL\n",
    "                        THEN 0\n",
    "                        ELSE id_get\n",
    "                      END);\n",
    "                    INSERT INTO logs (`id`, `action_time`, `action`, `node`, `apptid`, `status`, `TimeQueued`, `QueueDate`, `StartTime`, `EndTime`, `type`, `Virtual`, `hospitalname`, `IsHospital`, `City`, `Province`, `RegionName`, `mainspecialty`, `patientage`, `patientgender`)\n",
    "                    VALUES(id_get + 1, {values});\n",
    "                END;\n",
    "            \"\"\")"
   ]
  },
  {
   "cell_type": "markdown",
   "id": "d9448099",
   "metadata": {},
   "source": [
    "## Create Logs Table\n"
   ]
  },
  {
   "cell_type": "markdown",
   "id": "86951da8",
   "metadata": {},
   "source": [
    "### Central Node"
   ]
  },
  {
   "cell_type": "code",
   "execution_count": 125,
   "id": "58e283a3",
   "metadata": {},
   "outputs": [
    {
     "name": "stdout",
     "output_type": "stream",
     "text": [
      "logs TABLE CREATED IN Central NODE\n"
     ]
    }
   ],
   "source": [
    "with engine0.connect() as conn:\n",
    "    conn.execute(drop_logs)\n",
    "    conn.execute(create_logs(True))\n",
    "    print(\"logs TABLE CREATED IN Central NODE\")"
   ]
  },
  {
   "cell_type": "markdown",
   "id": "5aa05cd2",
   "metadata": {},
   "source": [
    "### Luzon Node"
   ]
  },
  {
   "cell_type": "code",
   "execution_count": 126,
   "id": "11c6e604",
   "metadata": {},
   "outputs": [
    {
     "name": "stdout",
     "output_type": "stream",
     "text": [
      "logs TABLE CREATED IN Luzon NODE\n"
     ]
    }
   ],
   "source": [
    "with engine1.connect() as conn:\n",
    "    conn.execute(drop_logs)\n",
    "    conn.execute(create_logs(False))\n",
    "    print(\"logs TABLE CREATED IN Luzon NODE\")"
   ]
  },
  {
   "cell_type": "markdown",
   "id": "f53f88b2",
   "metadata": {},
   "source": [
    "### VisMin Node"
   ]
  },
  {
   "cell_type": "code",
   "execution_count": 127,
   "id": "bedd5976",
   "metadata": {},
   "outputs": [
    {
     "name": "stdout",
     "output_type": "stream",
     "text": [
      "logs TABLE CREATED IN VisMin NODE\n"
     ]
    }
   ],
   "source": [
    "with engine2.connect() as conn:\n",
    "    conn.execute(drop_logs)\n",
    "    conn.execute(create_logs(False))\n",
    "    print(\"logs TABLE CREATED IN VisMin NODE\")"
   ]
  },
  {
   "cell_type": "markdown",
   "id": "4974cf1b",
   "metadata": {},
   "source": [
    "## Triggers"
   ]
  },
  {
   "cell_type": "markdown",
   "id": "ab23bd99",
   "metadata": {},
   "source": [
    "### Central Node"
   ]
  },
  {
   "cell_type": "code",
   "execution_count": 128,
   "id": "461572da",
   "metadata": {},
   "outputs": [
    {
     "name": "stdout",
     "output_type": "stream",
     "text": [
      "TRIGGERS CREATED IN Central NODE\n"
     ]
    }
   ],
   "source": [
    "with engine0.connect() as conn:\n",
    "    conn.execute(drop_triggers('center', 'insert'))\n",
    "    conn.execute(drop_triggers('center', 'update'))\n",
    "    conn.execute(drop_triggers('center', 'delete'))\n",
    "    conn.execute(create_triggers('insert', True))\n",
    "    conn.execute(create_triggers('update', True))\n",
    "    conn.execute(create_triggers('delete', True))\n",
    "    print(\"TRIGGERS CREATED IN Central NODE\")"
   ]
  },
  {
   "cell_type": "markdown",
   "id": "f83d2a59",
   "metadata": {},
   "source": [
    "### Node 2 (Luzon)"
   ]
  },
  {
   "cell_type": "code",
   "execution_count": 129,
   "id": "d891b0b0",
   "metadata": {},
   "outputs": [
    {
     "name": "stdout",
     "output_type": "stream",
     "text": [
      "TRIGGERS CREATED IN Luzon NODE\n"
     ]
    }
   ],
   "source": [
    "with engine1.connect() as conn:\n",
    "    conn.execute(drop_triggers('node_2', 'insert'))\n",
    "    conn.execute(drop_triggers('node_2', 'update'))\n",
    "    conn.execute(drop_triggers('node_2', 'delete'))\n",
    "    conn.execute(create_triggers('insert', False))\n",
    "    conn.execute(create_triggers('update', False))\n",
    "    conn.execute(create_triggers('delete', False))\n",
    "    print(\"TRIGGERS CREATED IN Luzon NODE\")"
   ]
  },
  {
   "cell_type": "markdown",
   "id": "7a252532",
   "metadata": {},
   "source": [
    "### Node 3 (Visayas Mindanao)"
   ]
  },
  {
   "cell_type": "code",
   "execution_count": 130,
   "id": "e53e45f0",
   "metadata": {},
   "outputs": [
    {
     "name": "stdout",
     "output_type": "stream",
     "text": [
      "TRIGGERS CREATED IN Luzon NODE\n"
     ]
    }
   ],
   "source": [
    "with engine2.connect() as conn:\n",
    "    conn.execute(drop_triggers('node_3', 'insert'))\n",
    "    conn.execute(drop_triggers('node_3', 'update'))\n",
    "    conn.execute(drop_triggers('node_3', 'delete'))\n",
    "    conn.execute(create_triggers('insert', False))\n",
    "    conn.execute(create_triggers('update', False))\n",
    "    conn.execute(create_triggers('delete', False))\n",
    "    print(\"TRIGGERS CREATED IN Luzon NODE\")"
   ]
  },
  {
   "cell_type": "code",
   "execution_count": null,
   "id": "9f7b4e37",
   "metadata": {},
   "outputs": [],
   "source": []
  },
  {
   "cell_type": "code",
   "execution_count": null,
   "id": "46cfa05a",
   "metadata": {},
   "outputs": [],
   "source": []
  },
  {
   "cell_type": "code",
   "execution_count": null,
   "id": "dd71f5f1",
   "metadata": {},
   "outputs": [],
   "source": []
  }
 ],
 "metadata": {
  "kernelspec": {
   "display_name": "Python 3 (ipykernel)",
   "language": "python",
   "name": "python3"
  },
  "language_info": {
   "codemirror_mode": {
    "name": "ipython",
    "version": 3
   },
   "file_extension": ".py",
   "mimetype": "text/x-python",
   "name": "python",
   "nbconvert_exporter": "python",
   "pygments_lexer": "ipython3",
   "version": "3.11.4"
  }
 },
 "nbformat": 4,
 "nbformat_minor": 5
}
